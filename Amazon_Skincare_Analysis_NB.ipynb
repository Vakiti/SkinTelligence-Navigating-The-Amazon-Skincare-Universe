{
 "cells": [
  {
   "cell_type": "markdown",
   "id": "362f6b2e",
   "metadata": {},
   "source": [
    "# Data Pre-processing : Cleaning & Transformation"
   ]
  },
  {
   "cell_type": "markdown",
   "id": "4e324935",
   "metadata": {},
   "source": [
    "# Data Cleaning"
   ]
  },
  {
   "cell_type": "markdown",
   "id": "5a483c68",
   "metadata": {},
   "source": [
    "For the preprocessing we will first find the datatypes of the columns of our dataframe, and then drop the \n",
    "unneccessary columns."
   ]
  },
  {
   "cell_type": "code",
   "execution_count": null,
   "id": "8180b98a",
   "metadata": {},
   "outputs": [],
   "source": [
    "import pandas as pd\n",
    "import matplotlib.pyplot as py\n",
    "from sklearn.model_selection import train_test_split\n",
    "from sklearn.feature_extraction.text import TfidfVectorizer\n",
    "from sklearn.preprocessing import LabelEncoder"
   ]
  },
  {
   "cell_type": "code",
   "execution_count": 111,
   "id": "58e5ada8",
   "metadata": {},
   "outputs": [
    {
     "data": {
      "text/html": [
       "<div>\n",
       "<style scoped>\n",
       "    .dataframe tbody tr th:only-of-type {\n",
       "        vertical-align: middle;\n",
       "    }\n",
       "\n",
       "    .dataframe tbody tr th {\n",
       "        vertical-align: top;\n",
       "    }\n",
       "\n",
       "    .dataframe thead th {\n",
       "        text-align: right;\n",
       "    }\n",
       "</style>\n",
       "<table border=\"1\" class=\"dataframe\">\n",
       "  <thead>\n",
       "    <tr style=\"text-align: right;\">\n",
       "      <th></th>\n",
       "      <th>ASIN</th>\n",
       "      <th>product_name</th>\n",
       "      <th>price</th>\n",
       "      <th>listPrice</th>\n",
       "      <th>detailPageURL</th>\n",
       "      <th>rating</th>\n",
       "      <th>totalReviews</th>\n",
       "      <th>product_company</th>\n",
       "      <th>isPrimeEligible</th>\n",
       "      <th>Category</th>\n",
       "      <th>ingredients</th>\n",
       "      <th>highlights</th>\n",
       "    </tr>\n",
       "  </thead>\n",
       "  <tbody>\n",
       "    <tr>\n",
       "      <th>0</th>\n",
       "      <td>B0C2NBW5LM</td>\n",
       "      <td>yopela 14 pack natural lip balm in bulk with ...</td>\n",
       "      <td>5.59</td>\n",
       "      <td>NaN</td>\n",
       "      <td>https://www.amazon.com/dp/B0C2NBW5LM</td>\n",
       "      <td>4.3</td>\n",
       "      <td>311.0</td>\n",
       "      <td>yopela</td>\n",
       "      <td>1.0</td>\n",
       "      <td>lipbalm</td>\n",
       "      <td>Not found</td>\n",
       "      <td>Not found</td>\n",
       "    </tr>\n",
       "    <tr>\n",
       "      <th>1</th>\n",
       "      <td>B0B43WPH44</td>\n",
       "      <td>#ootd vegan hydrating korean face mask sheet p...</td>\n",
       "      <td>33.90</td>\n",
       "      <td>NaN</td>\n",
       "      <td>https://www.amazon.com/dp/B0B43WPH44</td>\n",
       "      <td>4.5</td>\n",
       "      <td>381.0</td>\n",
       "      <td>#ootd</td>\n",
       "      <td>1.0</td>\n",
       "      <td>sheet mask</td>\n",
       "      <td>Not found</td>\n",
       "      <td>Not found</td>\n",
       "    </tr>\n",
       "    <tr>\n",
       "      <th>2</th>\n",
       "      <td>B083QCJPDD</td>\n",
       "      <td>beauty of joseon centella asiatica calming mas...</td>\n",
       "      <td>15.52</td>\n",
       "      <td>25.00</td>\n",
       "      <td>https://www.amazon.com/dp/B083QCJPDD</td>\n",
       "      <td>4.5</td>\n",
       "      <td>135.0</td>\n",
       "      <td>beauty of joseon</td>\n",
       "      <td>1.0</td>\n",
       "      <td>sheet mask</td>\n",
       "      <td>Not found</td>\n",
       "      <td>Not found</td>\n",
       "    </tr>\n",
       "    <tr>\n",
       "      <th>3</th>\n",
       "      <td>B0B3R661JP</td>\n",
       "      <td>beauty of joseon radiance cleansing balm (100m...</td>\n",
       "      <td>17.10</td>\n",
       "      <td>19.00</td>\n",
       "      <td>https://www.amazon.com/dp/B0B3R661JP</td>\n",
       "      <td>4.6</td>\n",
       "      <td>302.0</td>\n",
       "      <td>beauty of joseon</td>\n",
       "      <td>1.0</td>\n",
       "      <td>cleansing oil</td>\n",
       "      <td>Not found</td>\n",
       "      <td>Not found</td>\n",
       "    </tr>\n",
       "    <tr>\n",
       "      <th>4</th>\n",
       "      <td>B00OZ6W8DW</td>\n",
       "      <td>cosrx salicylic acid daily gentle cleanser 150...</td>\n",
       "      <td>13.99</td>\n",
       "      <td>NaN</td>\n",
       "      <td>https://www.amazon.com/dp/B00OZ6W8DW</td>\n",
       "      <td>4.6</td>\n",
       "      <td>1581.0</td>\n",
       "      <td>cosrx</td>\n",
       "      <td>1.0</td>\n",
       "      <td>cleanser</td>\n",
       "      <td>Not found</td>\n",
       "      <td>Not found</td>\n",
       "    </tr>\n",
       "    <tr>\n",
       "      <th>...</th>\n",
       "      <td>...</td>\n",
       "      <td>...</td>\n",
       "      <td>...</td>\n",
       "      <td>...</td>\n",
       "      <td>...</td>\n",
       "      <td>...</td>\n",
       "      <td>...</td>\n",
       "      <td>...</td>\n",
       "      <td>...</td>\n",
       "      <td>...</td>\n",
       "      <td>...</td>\n",
       "      <td>...</td>\n",
       "    </tr>\n",
       "    <tr>\n",
       "      <th>1233</th>\n",
       "      <td>B0BQ3R8LH7</td>\n",
       "      <td>zeoclay face mask - 100% organic spa quality -...</td>\n",
       "      <td>38.24</td>\n",
       "      <td>44.99</td>\n",
       "      <td>https://www.amazon.com/dp/B0BQ3R8LH7</td>\n",
       "      <td>5.0</td>\n",
       "      <td>20.0</td>\n",
       "      <td>zeoclay</td>\n",
       "      <td>1.0</td>\n",
       "      <td>clay mask</td>\n",
       "      <td>Not found</td>\n",
       "      <td>Not found</td>\n",
       "    </tr>\n",
       "    <tr>\n",
       "      <th>1234</th>\n",
       "      <td>B07S472V7D</td>\n",
       "      <td>zo skin health gentle cleanser 6.7 fl. oz.</td>\n",
       "      <td>36.90</td>\n",
       "      <td>40.97</td>\n",
       "      <td>https://www.amazon.com/dp/B07S472V7D</td>\n",
       "      <td>4.7</td>\n",
       "      <td>606.0</td>\n",
       "      <td>zo skin health</td>\n",
       "      <td>1.0</td>\n",
       "      <td>cleanser</td>\n",
       "      <td>Not found</td>\n",
       "      <td>Not found</td>\n",
       "    </tr>\n",
       "    <tr>\n",
       "      <th>1235</th>\n",
       "      <td>B0150GNTQK</td>\n",
       "      <td>zum face sugar facial scrub - lemongrass - 4 oz</td>\n",
       "      <td>15.25</td>\n",
       "      <td>NaN</td>\n",
       "      <td>https://www.amazon.com/dp/B0150GNTQK</td>\n",
       "      <td>4.5</td>\n",
       "      <td>166.0</td>\n",
       "      <td>zum</td>\n",
       "      <td>1.0</td>\n",
       "      <td>face scrub</td>\n",
       "      <td>Not found</td>\n",
       "      <td>Not found</td>\n",
       "    </tr>\n",
       "    <tr>\n",
       "      <th>1236</th>\n",
       "      <td>B07P8ZN5JS</td>\n",
       "      <td>𝗧𝗢𝗣 𝟮𝟬𝟮𝟯* hyaluronic acid face serum - 2.5% pu...</td>\n",
       "      <td>9.99</td>\n",
       "      <td>11.99</td>\n",
       "      <td>https://www.amazon.com/dp/B07P8ZN5JS</td>\n",
       "      <td>4.3</td>\n",
       "      <td>24024.0</td>\n",
       "      <td>eclat skincare</td>\n",
       "      <td>1.0</td>\n",
       "      <td>serum</td>\n",
       "      <td>Not found</td>\n",
       "      <td>Not found</td>\n",
       "    </tr>\n",
       "    <tr>\n",
       "      <th>1237</th>\n",
       "      <td>B09MN49M76</td>\n",
       "      <td>𝗪𝗜𝗡𝗡𝗘𝗥 𝟮𝟬𝟮𝟯* turmeric face mask, aztec clay ma...</td>\n",
       "      <td>8.99</td>\n",
       "      <td>NaN</td>\n",
       "      <td>https://www.amazon.com/dp/B09MN49M76</td>\n",
       "      <td>4.5</td>\n",
       "      <td>198.0</td>\n",
       "      <td>betty rose's botanicals</td>\n",
       "      <td>1.0</td>\n",
       "      <td>clay mask</td>\n",
       "      <td>Not found</td>\n",
       "      <td>Not found</td>\n",
       "    </tr>\n",
       "  </tbody>\n",
       "</table>\n",
       "<p>1238 rows × 12 columns</p>\n",
       "</div>"
      ],
      "text/plain": [
       "            ASIN                                       product_name  price  \\\n",
       "0     B0C2NBW5LM   yopela 14 pack natural lip balm in bulk with ...   5.59   \n",
       "1     B0B43WPH44  #ootd vegan hydrating korean face mask sheet p...  33.90   \n",
       "2     B083QCJPDD  beauty of joseon centella asiatica calming mas...  15.52   \n",
       "3     B0B3R661JP  beauty of joseon radiance cleansing balm (100m...  17.10   \n",
       "4     B00OZ6W8DW  cosrx salicylic acid daily gentle cleanser 150...  13.99   \n",
       "...          ...                                                ...    ...   \n",
       "1233  B0BQ3R8LH7  zeoclay face mask - 100% organic spa quality -...  38.24   \n",
       "1234  B07S472V7D         zo skin health gentle cleanser 6.7 fl. oz.  36.90   \n",
       "1235  B0150GNTQK    zum face sugar facial scrub - lemongrass - 4 oz  15.25   \n",
       "1236  B07P8ZN5JS  𝗧𝗢𝗣 𝟮𝟬𝟮𝟯* hyaluronic acid face serum - 2.5% pu...   9.99   \n",
       "1237  B09MN49M76  𝗪𝗜𝗡𝗡𝗘𝗥 𝟮𝟬𝟮𝟯* turmeric face mask, aztec clay ma...   8.99   \n",
       "\n",
       "      listPrice                         detailPageURL  rating  totalReviews  \\\n",
       "0           NaN  https://www.amazon.com/dp/B0C2NBW5LM     4.3         311.0   \n",
       "1           NaN  https://www.amazon.com/dp/B0B43WPH44     4.5         381.0   \n",
       "2         25.00  https://www.amazon.com/dp/B083QCJPDD     4.5         135.0   \n",
       "3         19.00  https://www.amazon.com/dp/B0B3R661JP     4.6         302.0   \n",
       "4           NaN  https://www.amazon.com/dp/B00OZ6W8DW     4.6        1581.0   \n",
       "...         ...                                   ...     ...           ...   \n",
       "1233      44.99  https://www.amazon.com/dp/B0BQ3R8LH7     5.0          20.0   \n",
       "1234      40.97  https://www.amazon.com/dp/B07S472V7D     4.7         606.0   \n",
       "1235        NaN  https://www.amazon.com/dp/B0150GNTQK     4.5         166.0   \n",
       "1236      11.99  https://www.amazon.com/dp/B07P8ZN5JS     4.3       24024.0   \n",
       "1237        NaN  https://www.amazon.com/dp/B09MN49M76     4.5         198.0   \n",
       "\n",
       "              product_company  isPrimeEligible       Category ingredients  \\\n",
       "0                      yopela              1.0        lipbalm   Not found   \n",
       "1                       #ootd              1.0     sheet mask   Not found   \n",
       "2            beauty of joseon              1.0     sheet mask   Not found   \n",
       "3            beauty of joseon              1.0  cleansing oil   Not found   \n",
       "4                       cosrx              1.0       cleanser   Not found   \n",
       "...                       ...              ...            ...         ...   \n",
       "1233                  zeoclay              1.0      clay mask   Not found   \n",
       "1234           zo skin health              1.0       cleanser   Not found   \n",
       "1235                      zum              1.0     face scrub   Not found   \n",
       "1236           eclat skincare              1.0          serum   Not found   \n",
       "1237  betty rose's botanicals              1.0      clay mask   Not found   \n",
       "\n",
       "     highlights  \n",
       "0     Not found  \n",
       "1     Not found  \n",
       "2     Not found  \n",
       "3     Not found  \n",
       "4     Not found  \n",
       "...         ...  \n",
       "1233  Not found  \n",
       "1234  Not found  \n",
       "1235  Not found  \n",
       "1236  Not found  \n",
       "1237  Not found  \n",
       "\n",
       "[1238 rows x 12 columns]"
      ]
     },
     "execution_count": 111,
     "metadata": {},
     "output_type": "execute_result"
    }
   ],
   "source": [
    "product_dfv1=pd.read_csv(\"https://raw.githubusercontent.com/Vakiti/SkinTelligence-Navigating-The-Amazon-Skincare-Universe/datasets/final_dataset.csv\")\n",
    "product_dfv1"
   ]
  },
  {
   "cell_type": "code",
   "execution_count": 112,
   "id": "9890d222",
   "metadata": {},
   "outputs": [
    {
     "name": "stdout",
     "output_type": "stream",
     "text": [
      "<class 'pandas.core.frame.DataFrame'>\n",
      "RangeIndex: 1238 entries, 0 to 1237\n",
      "Data columns (total 12 columns):\n",
      " #   Column           Non-Null Count  Dtype  \n",
      "---  ------           --------------  -----  \n",
      " 0   ASIN             1238 non-null   object \n",
      " 1   product_name     1238 non-null   object \n",
      " 2   price            1236 non-null   float64\n",
      " 3   listPrice        529 non-null    float64\n",
      " 4   detailPageURL    1238 non-null   object \n",
      " 5   rating           1206 non-null   float64\n",
      " 6   totalReviews     1206 non-null   float64\n",
      " 7   product_company  1238 non-null   object \n",
      " 8   isPrimeEligible  1236 non-null   float64\n",
      " 9   Category         1238 non-null   object \n",
      " 10  ingredients      1238 non-null   object \n",
      " 11  highlights       1238 non-null   object \n",
      "dtypes: float64(5), object(7)\n",
      "memory usage: 116.2+ KB\n"
     ]
    }
   ],
   "source": [
    "product_dfv1.info()"
   ]
  },
  {
   "cell_type": "code",
   "execution_count": 113,
   "id": "0ff2b6fd",
   "metadata": {},
   "outputs": [
    {
     "data": {
      "text/html": [
       "<div>\n",
       "<style scoped>\n",
       "    .dataframe tbody tr th:only-of-type {\n",
       "        vertical-align: middle;\n",
       "    }\n",
       "\n",
       "    .dataframe tbody tr th {\n",
       "        vertical-align: top;\n",
       "    }\n",
       "\n",
       "    .dataframe thead th {\n",
       "        text-align: right;\n",
       "    }\n",
       "</style>\n",
       "<table border=\"1\" class=\"dataframe\">\n",
       "  <thead>\n",
       "    <tr style=\"text-align: right;\">\n",
       "      <th></th>\n",
       "      <th>product_name</th>\n",
       "      <th>price</th>\n",
       "      <th>listPrice</th>\n",
       "      <th>rating</th>\n",
       "      <th>totalReviews</th>\n",
       "      <th>product_company</th>\n",
       "      <th>isPrimeEligible</th>\n",
       "      <th>Category</th>\n",
       "    </tr>\n",
       "  </thead>\n",
       "  <tbody>\n",
       "    <tr>\n",
       "      <th>0</th>\n",
       "      <td>yopela 14 pack natural lip balm in bulk with ...</td>\n",
       "      <td>5.59</td>\n",
       "      <td>NaN</td>\n",
       "      <td>4.3</td>\n",
       "      <td>311.0</td>\n",
       "      <td>yopela</td>\n",
       "      <td>1.0</td>\n",
       "      <td>lipbalm</td>\n",
       "    </tr>\n",
       "    <tr>\n",
       "      <th>1</th>\n",
       "      <td>#ootd vegan hydrating korean face mask sheet p...</td>\n",
       "      <td>33.90</td>\n",
       "      <td>NaN</td>\n",
       "      <td>4.5</td>\n",
       "      <td>381.0</td>\n",
       "      <td>#ootd</td>\n",
       "      <td>1.0</td>\n",
       "      <td>sheet mask</td>\n",
       "    </tr>\n",
       "    <tr>\n",
       "      <th>2</th>\n",
       "      <td>beauty of joseon centella asiatica calming mas...</td>\n",
       "      <td>15.52</td>\n",
       "      <td>25.00</td>\n",
       "      <td>4.5</td>\n",
       "      <td>135.0</td>\n",
       "      <td>beauty of joseon</td>\n",
       "      <td>1.0</td>\n",
       "      <td>sheet mask</td>\n",
       "    </tr>\n",
       "    <tr>\n",
       "      <th>3</th>\n",
       "      <td>beauty of joseon radiance cleansing balm (100m...</td>\n",
       "      <td>17.10</td>\n",
       "      <td>19.00</td>\n",
       "      <td>4.6</td>\n",
       "      <td>302.0</td>\n",
       "      <td>beauty of joseon</td>\n",
       "      <td>1.0</td>\n",
       "      <td>cleansing oil</td>\n",
       "    </tr>\n",
       "    <tr>\n",
       "      <th>4</th>\n",
       "      <td>cosrx salicylic acid daily gentle cleanser 150...</td>\n",
       "      <td>13.99</td>\n",
       "      <td>NaN</td>\n",
       "      <td>4.6</td>\n",
       "      <td>1581.0</td>\n",
       "      <td>cosrx</td>\n",
       "      <td>1.0</td>\n",
       "      <td>cleanser</td>\n",
       "    </tr>\n",
       "    <tr>\n",
       "      <th>...</th>\n",
       "      <td>...</td>\n",
       "      <td>...</td>\n",
       "      <td>...</td>\n",
       "      <td>...</td>\n",
       "      <td>...</td>\n",
       "      <td>...</td>\n",
       "      <td>...</td>\n",
       "      <td>...</td>\n",
       "    </tr>\n",
       "    <tr>\n",
       "      <th>1233</th>\n",
       "      <td>zeoclay face mask - 100% organic spa quality -...</td>\n",
       "      <td>38.24</td>\n",
       "      <td>44.99</td>\n",
       "      <td>5.0</td>\n",
       "      <td>20.0</td>\n",
       "      <td>zeoclay</td>\n",
       "      <td>1.0</td>\n",
       "      <td>clay mask</td>\n",
       "    </tr>\n",
       "    <tr>\n",
       "      <th>1234</th>\n",
       "      <td>zo skin health gentle cleanser 6.7 fl. oz.</td>\n",
       "      <td>36.90</td>\n",
       "      <td>40.97</td>\n",
       "      <td>4.7</td>\n",
       "      <td>606.0</td>\n",
       "      <td>zo skin health</td>\n",
       "      <td>1.0</td>\n",
       "      <td>cleanser</td>\n",
       "    </tr>\n",
       "    <tr>\n",
       "      <th>1235</th>\n",
       "      <td>zum face sugar facial scrub - lemongrass - 4 oz</td>\n",
       "      <td>15.25</td>\n",
       "      <td>NaN</td>\n",
       "      <td>4.5</td>\n",
       "      <td>166.0</td>\n",
       "      <td>zum</td>\n",
       "      <td>1.0</td>\n",
       "      <td>face scrub</td>\n",
       "    </tr>\n",
       "    <tr>\n",
       "      <th>1236</th>\n",
       "      <td>𝗧𝗢𝗣 𝟮𝟬𝟮𝟯* hyaluronic acid face serum - 2.5% pu...</td>\n",
       "      <td>9.99</td>\n",
       "      <td>11.99</td>\n",
       "      <td>4.3</td>\n",
       "      <td>24024.0</td>\n",
       "      <td>eclat skincare</td>\n",
       "      <td>1.0</td>\n",
       "      <td>serum</td>\n",
       "    </tr>\n",
       "    <tr>\n",
       "      <th>1237</th>\n",
       "      <td>𝗪𝗜𝗡𝗡𝗘𝗥 𝟮𝟬𝟮𝟯* turmeric face mask, aztec clay ma...</td>\n",
       "      <td>8.99</td>\n",
       "      <td>NaN</td>\n",
       "      <td>4.5</td>\n",
       "      <td>198.0</td>\n",
       "      <td>betty rose's botanicals</td>\n",
       "      <td>1.0</td>\n",
       "      <td>clay mask</td>\n",
       "    </tr>\n",
       "  </tbody>\n",
       "</table>\n",
       "<p>1238 rows × 8 columns</p>\n",
       "</div>"
      ],
      "text/plain": [
       "                                           product_name  price  listPrice  \\\n",
       "0      yopela 14 pack natural lip balm in bulk with ...   5.59        NaN   \n",
       "1     #ootd vegan hydrating korean face mask sheet p...  33.90        NaN   \n",
       "2     beauty of joseon centella asiatica calming mas...  15.52      25.00   \n",
       "3     beauty of joseon radiance cleansing balm (100m...  17.10      19.00   \n",
       "4     cosrx salicylic acid daily gentle cleanser 150...  13.99        NaN   \n",
       "...                                                 ...    ...        ...   \n",
       "1233  zeoclay face mask - 100% organic spa quality -...  38.24      44.99   \n",
       "1234         zo skin health gentle cleanser 6.7 fl. oz.  36.90      40.97   \n",
       "1235    zum face sugar facial scrub - lemongrass - 4 oz  15.25        NaN   \n",
       "1236  𝗧𝗢𝗣 𝟮𝟬𝟮𝟯* hyaluronic acid face serum - 2.5% pu...   9.99      11.99   \n",
       "1237  𝗪𝗜𝗡𝗡𝗘𝗥 𝟮𝟬𝟮𝟯* turmeric face mask, aztec clay ma...   8.99        NaN   \n",
       "\n",
       "      rating  totalReviews          product_company  isPrimeEligible  \\\n",
       "0        4.3         311.0                   yopela              1.0   \n",
       "1        4.5         381.0                    #ootd              1.0   \n",
       "2        4.5         135.0         beauty of joseon              1.0   \n",
       "3        4.6         302.0         beauty of joseon              1.0   \n",
       "4        4.6        1581.0                    cosrx              1.0   \n",
       "...      ...           ...                      ...              ...   \n",
       "1233     5.0          20.0                  zeoclay              1.0   \n",
       "1234     4.7         606.0           zo skin health              1.0   \n",
       "1235     4.5         166.0                      zum              1.0   \n",
       "1236     4.3       24024.0           eclat skincare              1.0   \n",
       "1237     4.5         198.0  betty rose's botanicals              1.0   \n",
       "\n",
       "           Category  \n",
       "0           lipbalm  \n",
       "1        sheet mask  \n",
       "2        sheet mask  \n",
       "3     cleansing oil  \n",
       "4          cleanser  \n",
       "...             ...  \n",
       "1233      clay mask  \n",
       "1234       cleanser  \n",
       "1235     face scrub  \n",
       "1236          serum  \n",
       "1237      clay mask  \n",
       "\n",
       "[1238 rows x 8 columns]"
      ]
     },
     "execution_count": 113,
     "metadata": {},
     "output_type": "execute_result"
    }
   ],
   "source": [
    "product_dfv1=product_dfv1.drop(columns=['ASIN','detailPageURL','ingredients', 'highlights'], axis=1)\n",
    "product_dfv1"
   ]
  },
  {
   "cell_type": "markdown",
   "id": "333b80f8",
   "metadata": {},
   "source": [
    "After dropping the columns named 'ASIN','detailPageURL','ingredients', and 'highlights', we will check for missing and duplicate values."
   ]
  },
  {
   "cell_type": "code",
   "execution_count": 114,
   "id": "5dec818c",
   "metadata": {},
   "outputs": [
    {
     "data": {
      "text/plain": [
       "0"
      ]
     },
     "execution_count": 114,
     "metadata": {},
     "output_type": "execute_result"
    }
   ],
   "source": [
    "# Data Cleaning\n",
    "product_dfv1.duplicated().sum()"
   ]
  },
  {
   "cell_type": "code",
   "execution_count": 115,
   "id": "fce0a6f4",
   "metadata": {},
   "outputs": [
    {
     "data": {
      "text/plain": [
       "product_name         0\n",
       "price                2\n",
       "listPrice          709\n",
       "rating              32\n",
       "totalReviews        32\n",
       "product_company      0\n",
       "isPrimeEligible      2\n",
       "Category             0\n",
       "dtype: int64"
      ]
     },
     "execution_count": 115,
     "metadata": {},
     "output_type": "execute_result"
    }
   ],
   "source": [
    "product_dfv1.isnull().sum()"
   ]
  },
  {
   "cell_type": "code",
   "execution_count": 116,
   "id": "21fa0238",
   "metadata": {},
   "outputs": [
    {
     "data": {
      "text/html": [
       "<div>\n",
       "<style scoped>\n",
       "    .dataframe tbody tr th:only-of-type {\n",
       "        vertical-align: middle;\n",
       "    }\n",
       "\n",
       "    .dataframe tbody tr th {\n",
       "        vertical-align: top;\n",
       "    }\n",
       "\n",
       "    .dataframe thead th {\n",
       "        text-align: right;\n",
       "    }\n",
       "</style>\n",
       "<table border=\"1\" class=\"dataframe\">\n",
       "  <thead>\n",
       "    <tr style=\"text-align: right;\">\n",
       "      <th></th>\n",
       "      <th>product_name</th>\n",
       "      <th>price</th>\n",
       "      <th>listPrice</th>\n",
       "      <th>rating</th>\n",
       "      <th>totalReviews</th>\n",
       "      <th>product_company</th>\n",
       "      <th>isPrimeEligible</th>\n",
       "      <th>Category</th>\n",
       "    </tr>\n",
       "  </thead>\n",
       "  <tbody>\n",
       "    <tr>\n",
       "      <th>0</th>\n",
       "      <td>yopela 14 pack natural lip balm in bulk with ...</td>\n",
       "      <td>5.59</td>\n",
       "      <td>NaN</td>\n",
       "      <td>4.3</td>\n",
       "      <td>311.0</td>\n",
       "      <td>yopela</td>\n",
       "      <td>1.0</td>\n",
       "      <td>lipbalm</td>\n",
       "    </tr>\n",
       "    <tr>\n",
       "      <th>1</th>\n",
       "      <td>#ootd vegan hydrating korean face mask sheet p...</td>\n",
       "      <td>33.90</td>\n",
       "      <td>NaN</td>\n",
       "      <td>4.5</td>\n",
       "      <td>381.0</td>\n",
       "      <td>#ootd</td>\n",
       "      <td>1.0</td>\n",
       "      <td>sheet mask</td>\n",
       "    </tr>\n",
       "    <tr>\n",
       "      <th>2</th>\n",
       "      <td>beauty of joseon centella asiatica calming mas...</td>\n",
       "      <td>15.52</td>\n",
       "      <td>25.00</td>\n",
       "      <td>4.5</td>\n",
       "      <td>135.0</td>\n",
       "      <td>beauty of joseon</td>\n",
       "      <td>1.0</td>\n",
       "      <td>sheet mask</td>\n",
       "    </tr>\n",
       "    <tr>\n",
       "      <th>3</th>\n",
       "      <td>beauty of joseon radiance cleansing balm (100m...</td>\n",
       "      <td>17.10</td>\n",
       "      <td>19.00</td>\n",
       "      <td>4.6</td>\n",
       "      <td>302.0</td>\n",
       "      <td>beauty of joseon</td>\n",
       "      <td>1.0</td>\n",
       "      <td>cleansing oil</td>\n",
       "    </tr>\n",
       "    <tr>\n",
       "      <th>4</th>\n",
       "      <td>cosrx salicylic acid daily gentle cleanser 150...</td>\n",
       "      <td>13.99</td>\n",
       "      <td>NaN</td>\n",
       "      <td>4.6</td>\n",
       "      <td>1581.0</td>\n",
       "      <td>cosrx</td>\n",
       "      <td>1.0</td>\n",
       "      <td>cleanser</td>\n",
       "    </tr>\n",
       "    <tr>\n",
       "      <th>...</th>\n",
       "      <td>...</td>\n",
       "      <td>...</td>\n",
       "      <td>...</td>\n",
       "      <td>...</td>\n",
       "      <td>...</td>\n",
       "      <td>...</td>\n",
       "      <td>...</td>\n",
       "      <td>...</td>\n",
       "    </tr>\n",
       "    <tr>\n",
       "      <th>1233</th>\n",
       "      <td>zeoclay face mask - 100% organic spa quality -...</td>\n",
       "      <td>38.24</td>\n",
       "      <td>44.99</td>\n",
       "      <td>5.0</td>\n",
       "      <td>20.0</td>\n",
       "      <td>zeoclay</td>\n",
       "      <td>1.0</td>\n",
       "      <td>clay mask</td>\n",
       "    </tr>\n",
       "    <tr>\n",
       "      <th>1234</th>\n",
       "      <td>zo skin health gentle cleanser 6.7 fl. oz.</td>\n",
       "      <td>36.90</td>\n",
       "      <td>40.97</td>\n",
       "      <td>4.7</td>\n",
       "      <td>606.0</td>\n",
       "      <td>zo skin health</td>\n",
       "      <td>1.0</td>\n",
       "      <td>cleanser</td>\n",
       "    </tr>\n",
       "    <tr>\n",
       "      <th>1235</th>\n",
       "      <td>zum face sugar facial scrub - lemongrass - 4 oz</td>\n",
       "      <td>15.25</td>\n",
       "      <td>NaN</td>\n",
       "      <td>4.5</td>\n",
       "      <td>166.0</td>\n",
       "      <td>zum</td>\n",
       "      <td>1.0</td>\n",
       "      <td>face scrub</td>\n",
       "    </tr>\n",
       "    <tr>\n",
       "      <th>1236</th>\n",
       "      <td>𝗧𝗢𝗣 𝟮𝟬𝟮𝟯* hyaluronic acid face serum - 2.5% pu...</td>\n",
       "      <td>9.99</td>\n",
       "      <td>11.99</td>\n",
       "      <td>4.3</td>\n",
       "      <td>24024.0</td>\n",
       "      <td>eclat skincare</td>\n",
       "      <td>1.0</td>\n",
       "      <td>serum</td>\n",
       "    </tr>\n",
       "    <tr>\n",
       "      <th>1237</th>\n",
       "      <td>𝗪𝗜𝗡𝗡𝗘𝗥 𝟮𝟬𝟮𝟯* turmeric face mask, aztec clay ma...</td>\n",
       "      <td>8.99</td>\n",
       "      <td>NaN</td>\n",
       "      <td>4.5</td>\n",
       "      <td>198.0</td>\n",
       "      <td>betty rose's botanicals</td>\n",
       "      <td>1.0</td>\n",
       "      <td>clay mask</td>\n",
       "    </tr>\n",
       "  </tbody>\n",
       "</table>\n",
       "<p>1238 rows × 8 columns</p>\n",
       "</div>"
      ],
      "text/plain": [
       "                                           product_name  price  listPrice  \\\n",
       "0      yopela 14 pack natural lip balm in bulk with ...   5.59        NaN   \n",
       "1     #ootd vegan hydrating korean face mask sheet p...  33.90        NaN   \n",
       "2     beauty of joseon centella asiatica calming mas...  15.52      25.00   \n",
       "3     beauty of joseon radiance cleansing balm (100m...  17.10      19.00   \n",
       "4     cosrx salicylic acid daily gentle cleanser 150...  13.99        NaN   \n",
       "...                                                 ...    ...        ...   \n",
       "1233  zeoclay face mask - 100% organic spa quality -...  38.24      44.99   \n",
       "1234         zo skin health gentle cleanser 6.7 fl. oz.  36.90      40.97   \n",
       "1235    zum face sugar facial scrub - lemongrass - 4 oz  15.25        NaN   \n",
       "1236  𝗧𝗢𝗣 𝟮𝟬𝟮𝟯* hyaluronic acid face serum - 2.5% pu...   9.99      11.99   \n",
       "1237  𝗪𝗜𝗡𝗡𝗘𝗥 𝟮𝟬𝟮𝟯* turmeric face mask, aztec clay ma...   8.99        NaN   \n",
       "\n",
       "      rating  totalReviews          product_company  isPrimeEligible  \\\n",
       "0        4.3         311.0                   yopela              1.0   \n",
       "1        4.5         381.0                    #ootd              1.0   \n",
       "2        4.5         135.0         beauty of joseon              1.0   \n",
       "3        4.6         302.0         beauty of joseon              1.0   \n",
       "4        4.6        1581.0                    cosrx              1.0   \n",
       "...      ...           ...                      ...              ...   \n",
       "1233     5.0          20.0                  zeoclay              1.0   \n",
       "1234     4.7         606.0           zo skin health              1.0   \n",
       "1235     4.5         166.0                      zum              1.0   \n",
       "1236     4.3       24024.0           eclat skincare              1.0   \n",
       "1237     4.5         198.0  betty rose's botanicals              1.0   \n",
       "\n",
       "           Category  \n",
       "0           lipbalm  \n",
       "1        sheet mask  \n",
       "2        sheet mask  \n",
       "3     cleansing oil  \n",
       "4          cleanser  \n",
       "...             ...  \n",
       "1233      clay mask  \n",
       "1234       cleanser  \n",
       "1235     face scrub  \n",
       "1236          serum  \n",
       "1237      clay mask  \n",
       "\n",
       "[1238 rows x 8 columns]"
      ]
     },
     "execution_count": 116,
     "metadata": {},
     "output_type": "execute_result"
    }
   ],
   "source": [
    "product_dfv2=product_dfv1.copy()\n",
    "product_dfv2"
   ]
  },
  {
   "cell_type": "markdown",
   "id": "0dd5644f",
   "metadata": {},
   "source": [
    "Looks like 'listPrice' column has 709 values. It is not possible to delete them without incurring data loss. However, we can use the available data to provide a representative estimate of the average difference, and then use this estimate to fill in missing 'listPrice' values. This method should provide reasonable imputations for missing 'listPrice' values."
   ]
  },
  {
   "cell_type": "code",
   "execution_count": 118,
   "id": "3e2515f9",
   "metadata": {},
   "outputs": [],
   "source": [
    "# Calculate the average difference between price and listPrice\n",
    "average_difference = product_dfv2.loc[product_dfv2['listPrice'].notnull(), 'listPrice'].mean() - product_dfv2.loc[product_dfv2['listPrice'].notnull(), 'price'].mean()\n",
    "\n",
    "# Define a function to fill missing listPrice values\n",
    "def fill_missing_listPrice(row):\n",
    "    if pd.notnull(row['listPrice']):\n",
    "        return row['listPrice']\n",
    "    else:\n",
    "        return row['price'] + average_difference\n",
    "\n",
    "# Apply the function to fill missing listPrice values\n",
    "product_dfv2['listPrice'] = product_dfv2.apply(fill_missing_listPrice, axis=1)\n",
    "product_dfv2['listPrice']=product_dfv2['listPrice']. round(2) \n",
    "# Now, your DataFrame should have the missing listPrice values filled based on the calculated average difference.\n"
   ]
  },
  {
   "cell_type": "code",
   "execution_count": null,
   "id": "6c4a421f",
   "metadata": {},
   "outputs": [],
   "source": [
    "product_dfv2 = product_dfv2.dropna(subset=['price', 'rating','totalReviews'])"
   ]
  },
  {
   "cell_type": "code",
   "execution_count": 124,
   "id": "d84cb808",
   "metadata": {},
   "outputs": [
    {
     "data": {
      "text/plain": [
       "product_name       0\n",
       "price              0\n",
       "listPrice          0\n",
       "rating             0\n",
       "totalReviews       0\n",
       "product_company    0\n",
       "isPrimeEligible    0\n",
       "Category           0\n",
       "dtype: int64"
      ]
     },
     "execution_count": 124,
     "metadata": {},
     "output_type": "execute_result"
    }
   ],
   "source": [
    "product_dfv2.isna().sum()"
   ]
  },
  {
   "cell_type": "markdown",
   "id": "41b9c931",
   "metadata": {},
   "source": [
    "Unfortunately, it is not possible to impute the missing values in the 'rating' and 'totalReviews' columns as their missing values coincide with eachother. This implies that products having a missing value in the 'rating' column have a missing value in the 'totalReviews' column as well. Let us check for this through code:"
   ]
  },
  {
   "cell_type": "code",
   "execution_count": 125,
   "id": "c4856a67",
   "metadata": {},
   "outputs": [
    {
     "name": "stdout",
     "output_type": "stream",
     "text": [
      "<class 'pandas.core.frame.DataFrame'>\n",
      "Int64Index: 0 entries\n",
      "Data columns (total 8 columns):\n",
      " #   Column           Non-Null Count  Dtype  \n",
      "---  ------           --------------  -----  \n",
      " 0   product_name     0 non-null      object \n",
      " 1   price            0 non-null      float64\n",
      " 2   listPrice        0 non-null      float64\n",
      " 3   rating           0 non-null      float64\n",
      " 4   totalReviews     0 non-null      float64\n",
      " 5   product_company  0 non-null      object \n",
      " 6   isPrimeEligible  0 non-null      float64\n",
      " 7   Category         0 non-null      object \n",
      "dtypes: float64(5), object(3)\n",
      "memory usage: 0.0+ bytes\n"
     ]
    }
   ],
   "source": [
    "missing_rating = product_dfv2['rating'].isna()\n",
    "missing_reviews = product_dfv2['totalReviews'].isna()\n",
    "\n",
    "missing_both = missing_rating & missing_reviews\n",
    "\n",
    "products_with_missing_both = product_dfv2[missing_both]\n",
    "\n",
    "# Display the products with missing values in both 'rating' and 'totalReviews'\n",
    "products_with_missing_both.info()"
   ]
  },
  {
   "cell_type": "markdown",
   "id": "9eabe440",
   "metadata": {},
   "source": [
    "Looks like we're correct. So let us just remove the rows corresponding to these missing values. "
   ]
  },
  {
   "cell_type": "markdown",
   "id": "acfd4193",
   "metadata": {},
   "source": [
    "## Transformation"
   ]
  },
  {
   "cell_type": "code",
   "execution_count": 132,
   "id": "9aa16512",
   "metadata": {},
   "outputs": [
    {
     "name": "stdout",
     "output_type": "stream",
     "text": [
      "price: p-value = 0.0\n"
     ]
    },
    {
     "data": {
      "image/png": "[encoded data removed]",
      "text/plain": [
       "<Figure size 640x480 with 1 Axes>"
      ]
     },
     "metadata": {},
     "output_type": "display_data"
    },
    {
     "name": "stdout",
     "output_type": "stream",
     "text": [
      "listPrice: p-value = 0.0\n"
     ]
    },
    {
     "data": {
      "image/png": "[encoded data removed]",
      "text/plain": [
       "<Figure size 640x480 with 1 Axes>"
      ]
     },
     "metadata": {},
     "output_type": "display_data"
    },
    {
     "name": "stdout",
     "output_type": "stream",
     "text": [
      "rating: p-value = 6.127652631491607e-37\n"
     ]
    },
    {
     "data": {
      "image/png": "[encoded data removed]",
      "text/plain": [
       "<Figure size 640x480 with 1 Axes>"
      ]
     },
     "metadata": {},
     "output_type": "display_data"
    },
    {
     "name": "stdout",
     "output_type": "stream",
     "text": [
      "totalReviews: p-value = 0.0\n"
     ]
    },
    {
     "data": {
      "image/png": "[encoded data removed]",
      "text/plain": [
       "<Figure size 640x480 with 1 Axes>"
      ]
     },
     "metadata": {},
     "output_type": "display_data"
    },
    {
     "name": "stdout",
     "output_type": "stream",
     "text": [
      "isPrimeEligible: p-value = 0.0\n"
     ]
    },
    {
     "data": {
      "image/png": "[encoded data removed]",
      "text/plain": [
       "<Figure size 640x480 with 1 Axes>"
      ]
     },
     "metadata": {},
     "output_type": "display_data"
    }
   ],
   "source": [
    "from scipy import stats\n",
    "import matplotlib.pyplot as plt\n",
    "\n",
    "# Define the columns you want to create histograms for\n",
    "columns_to_plot = ['price', 'listPrice', 'rating', 'totalReviews', 'isPrimeEligible']\n",
    "\n",
    "# Loop through the selected columns and create histograms\n",
    "for column in columns_to_plot:\n",
    "    feature = product_dfv2[column].dropna()\n",
    "    \n",
    "    # Shapiro-Wilk test for normality\n",
    "    stat, p = stats.shapiro(feature)\n",
    "    print(f\"{column}: p-value = {p}\")\n",
    "    \n",
    "    # Create a histogram\n",
    "    plt.figure()\n",
    "    plt.hist(feature, bins='auto')\n",
    "    plt.title(f\"{column} Histogram\")\n",
    "    plt.show()"
   ]
  },
  {
   "cell_type": "markdown",
   "id": "32e429e1",
   "metadata": {},
   "source": [
    "\n",
    "A p-value of 0 or a very small value (e.g., 6.127652631491607e-37) suggests that our data significantly deviates from\n",
    "a normal distribution. In statistical terms, this means that our data is not normally distributed. Therefore, for Gaussian\n",
    "Naive Bayes, which assumes normally distributed features, using this data as-is is not appropriate.\n",
    "\n",
    "Since this data is not normally distributed, we might consider using other types of Naive Bayes or applying transformations\n",
    "to make our data more suitable for modeling.\n",
    "\n",
    "Right-skewed:price, listPrice, totalReviews\n",
    "Left-skewed: rating\n",
    "Binary: isPrimeEligible"
   ]
  },
  {
   "cell_type": "code",
   "execution_count": 140,
   "id": "f4ab41d9",
   "metadata": {},
   "outputs": [],
   "source": [
    "product_dfv3=product_dfv2.copy()"
   ]
  },
  {
   "cell_type": "code",
   "execution_count": 141,
   "id": "32ba7fd7",
   "metadata": {},
   "outputs": [],
   "source": [
    "import numpy as np\n",
    "product_dfv3['price'] = np.log1p(product_dfv3['price'])\n",
    "product_dfv3['listPrice'] = np.log1p(product_dfv3['listPrice'])\n",
    "product_dfv3['totalReviews'] = np.log1p(product_dfv3['totalReviews'])\n",
    "product_dfv3['rating'] = np.exp(product_dfv3['rating'])"
   ]
  },
  {
   "cell_type": "code",
   "execution_count": 142,
   "id": "3f4f3036",
   "metadata": {},
   "outputs": [
    {
     "name": "stdout",
     "output_type": "stream",
     "text": [
      "price: p-value = 3.813606375135947e-11\n"
     ]
    },
    {
     "data": {
      "image/png": "[encoded data removed]",
      "text/plain": [
       "<Figure size 640x480 with 1 Axes>"
      ]
     },
     "metadata": {},
     "output_type": "display_data"
    },
    {
     "name": "stdout",
     "output_type": "stream",
     "text": [
      "listPrice: p-value = 1.0556804996147973e-12\n"
     ]
    },
    {
     "data": {
      "image/png": "[encoded data removed]",
      "text/plain": [
       "<Figure size 640x480 with 1 Axes>"
      ]
     },
     "metadata": {},
     "output_type": "display_data"
    },
    {
     "name": "stdout",
     "output_type": "stream",
     "text": [
      "rating: p-value = 1.6062436325654782e-17\n"
     ]
    },
    {
     "data": {
      "image/png": "[encoded data removed]",
      "text/plain": [
       "<Figure size 640x480 with 1 Axes>"
      ]
     },
     "metadata": {},
     "output_type": "display_data"
    },
    {
     "name": "stdout",
     "output_type": "stream",
     "text": [
      "totalReviews: p-value = 4.175594536803828e-09\n"
     ]
    },
    {
     "data": {
      "image/png": "[encoded data removed]",
      "text/plain": [
       "<Figure size 640x480 with 1 Axes>"
      ]
     },
     "metadata": {},
     "output_type": "display_data"
    },
    {
     "name": "stdout",
     "output_type": "stream",
     "text": [
      "isPrimeEligible: p-value = 0.0\n"
     ]
    },
    {
     "data": {
      "image/png": "[encoded data removed]",
      "text/plain": [
       "<Figure size 640x480 with 1 Axes>"
      ]
     },
     "metadata": {},
     "output_type": "display_data"
    }
   ],
   "source": [
    "from scipy import stats\n",
    "import matplotlib.pyplot as plt\n",
    "\n",
    "# Define the columns you want to create histograms for\n",
    "columns_to_plot = ['price', 'listPrice', 'rating', 'totalReviews', 'isPrimeEligible']\n",
    "\n",
    "# Loop through the selected columns and create histograms\n",
    "for column in columns_to_plot:\n",
    "    feature = product_dfv3[column].dropna()\n",
    "    \n",
    "    # Shapiro-Wilk test for normality\n",
    "    stat, p = stats.shapiro(feature)\n",
    "    print(f\"{column}: p-value = {p}\")\n",
    "    \n",
    "    # Create a histogram\n",
    "    plt.figure()\n",
    "    plt.hist(feature, bins='auto')\n",
    "    plt.title(f\"{column} Histogram\")\n",
    "    plt.show()"
   ]
  },
  {
   "cell_type": "markdown",
   "id": "93545b7d",
   "metadata": {},
   "source": [
    "After applying the data transformations, the p-values from the Shapiro-Wilk test for normality are now above 0 \n",
    "(indicating that the data is more normally distributed), it means our data is closer to a normal distribution, \n",
    "which is typically an assumption for Multinomial Naive Bayes method."
   ]
  },
  {
   "cell_type": "markdown",
   "id": "49c58d7e",
   "metadata": {},
   "source": [
    "Now it is time to implement 3 types of Naive Bayes: Gaussian, Multinomial, and Bernoulli without any data transformations. We can take 3 main problem statements to implement these methods:\n",
    "\n",
    "1. Price Prediction: Is it possible to classify the price range (e.g., low, medium, high) of a product based on its ratings, the number of reviews, and other continuous features?--GaussianNB\n",
    "\n",
    "2. Prime Eligibility Classification: Is it possible to classify a product as prime eligible or not based on features?"
   ]
  },
  {
   "cell_type": "code",
   "execution_count": 144,
   "id": "177dde57",
   "metadata": {},
   "outputs": [],
   "source": [
    "import pandas as pd\n",
    "from sklearn.model_selection import train_test_split\n",
    "from sklearn.naive_bayes import GaussianNB\n",
    "from sklearn.metrics import accuracy_score\n",
    "\n",
    "# Calculate the average price\n",
    "avg_price = product_dfv3['price'].mean()\n",
    "\n",
    "# Define the price ranges based on average thresholds\n",
    "def categorize_price(price, avg_price):\n",
    "    if price < avg_price:\n",
    "        return 'low'\n",
    "    elif price < 2 * avg_price:\n",
    "        return 'medium'\n",
    "    else:\n",
    "        return 'high'\n",
    "\n",
    "# Apply the categorization function to create a new 'price_range' column\n",
    "product_dfv3['price_range'] = product_dfv3.apply(lambda row: categorize_price(row['price'], avg_price), axis=1)"
   ]
  },
  {
   "cell_type": "code",
   "execution_count": 145,
   "id": "d472fdbd",
   "metadata": {},
   "outputs": [
    {
     "data": {
      "text/html": [
       "<div>\n",
       "<style scoped>\n",
       "    .dataframe tbody tr th:only-of-type {\n",
       "        vertical-align: middle;\n",
       "    }\n",
       "\n",
       "    .dataframe tbody tr th {\n",
       "        vertical-align: top;\n",
       "    }\n",
       "\n",
       "    .dataframe thead th {\n",
       "        text-align: right;\n",
       "    }\n",
       "</style>\n",
       "<table border=\"1\" class=\"dataframe\">\n",
       "  <thead>\n",
       "    <tr style=\"text-align: right;\">\n",
       "      <th></th>\n",
       "      <th>product_name</th>\n",
       "      <th>price</th>\n",
       "      <th>listPrice</th>\n",
       "      <th>rating</th>\n",
       "      <th>totalReviews</th>\n",
       "      <th>product_company</th>\n",
       "      <th>isPrimeEligible</th>\n",
       "      <th>Category</th>\n",
       "      <th>price_range</th>\n",
       "    </tr>\n",
       "  </thead>\n",
       "  <tbody>\n",
       "    <tr>\n",
       "      <th>0</th>\n",
       "      <td>yopela 14 pack natural lip balm in bulk with ...</td>\n",
       "      <td>1.885553</td>\n",
       "      <td>2.476538</td>\n",
       "      <td>73.699794</td>\n",
       "      <td>5.743003</td>\n",
       "      <td>yopela</td>\n",
       "      <td>1.0</td>\n",
       "      <td>lipbalm</td>\n",
       "      <td>low</td>\n",
       "    </tr>\n",
       "    <tr>\n",
       "      <th>1</th>\n",
       "      <td>#ootd vegan hydrating korean face mask sheet p...</td>\n",
       "      <td>3.552487</td>\n",
       "      <td>3.694116</td>\n",
       "      <td>90.017131</td>\n",
       "      <td>5.945421</td>\n",
       "      <td>#ootd</td>\n",
       "      <td>1.0</td>\n",
       "      <td>sheet mask</td>\n",
       "      <td>medium</td>\n",
       "    </tr>\n",
       "    <tr>\n",
       "      <th>2</th>\n",
       "      <td>beauty of joseon centella asiatica calming mas...</td>\n",
       "      <td>2.804572</td>\n",
       "      <td>3.258097</td>\n",
       "      <td>90.017131</td>\n",
       "      <td>4.912655</td>\n",
       "      <td>beauty of joseon</td>\n",
       "      <td>1.0</td>\n",
       "      <td>sheet mask</td>\n",
       "      <td>low</td>\n",
       "    </tr>\n",
       "    <tr>\n",
       "      <th>3</th>\n",
       "      <td>beauty of joseon radiance cleansing balm (100m...</td>\n",
       "      <td>2.895912</td>\n",
       "      <td>2.995732</td>\n",
       "      <td>99.484316</td>\n",
       "      <td>5.713733</td>\n",
       "      <td>beauty of joseon</td>\n",
       "      <td>1.0</td>\n",
       "      <td>cleansing oil</td>\n",
       "      <td>medium</td>\n",
       "    </tr>\n",
       "    <tr>\n",
       "      <th>4</th>\n",
       "      <td>cosrx salicylic acid daily gentle cleanser 150...</td>\n",
       "      <td>2.707383</td>\n",
       "      <td>3.010621</td>\n",
       "      <td>99.484316</td>\n",
       "      <td>7.366445</td>\n",
       "      <td>cosrx</td>\n",
       "      <td>1.0</td>\n",
       "      <td>cleanser</td>\n",
       "      <td>low</td>\n",
       "    </tr>\n",
       "    <tr>\n",
       "      <th>...</th>\n",
       "      <td>...</td>\n",
       "      <td>...</td>\n",
       "      <td>...</td>\n",
       "      <td>...</td>\n",
       "      <td>...</td>\n",
       "      <td>...</td>\n",
       "      <td>...</td>\n",
       "      <td>...</td>\n",
       "      <td>...</td>\n",
       "    </tr>\n",
       "    <tr>\n",
       "      <th>1233</th>\n",
       "      <td>zeoclay face mask - 100% organic spa quality -...</td>\n",
       "      <td>3.669697</td>\n",
       "      <td>3.828424</td>\n",
       "      <td>148.413159</td>\n",
       "      <td>3.044522</td>\n",
       "      <td>zeoclay</td>\n",
       "      <td>1.0</td>\n",
       "      <td>clay mask</td>\n",
       "      <td>medium</td>\n",
       "    </tr>\n",
       "    <tr>\n",
       "      <th>1234</th>\n",
       "      <td>zo skin health gentle cleanser 6.7 fl. oz.</td>\n",
       "      <td>3.634951</td>\n",
       "      <td>3.736955</td>\n",
       "      <td>109.947172</td>\n",
       "      <td>6.408529</td>\n",
       "      <td>zo skin health</td>\n",
       "      <td>1.0</td>\n",
       "      <td>cleanser</td>\n",
       "      <td>medium</td>\n",
       "    </tr>\n",
       "    <tr>\n",
       "      <th>1235</th>\n",
       "      <td>zum face sugar facial scrub - lemongrass - 4 oz</td>\n",
       "      <td>2.788093</td>\n",
       "      <td>3.070840</td>\n",
       "      <td>90.017131</td>\n",
       "      <td>5.117994</td>\n",
       "      <td>zum</td>\n",
       "      <td>1.0</td>\n",
       "      <td>face scrub</td>\n",
       "      <td>low</td>\n",
       "    </tr>\n",
       "    <tr>\n",
       "      <th>1236</th>\n",
       "      <td>𝗧𝗢𝗣 𝟮𝟬𝟮𝟯* hyaluronic acid face serum - 2.5% pu...</td>\n",
       "      <td>2.396986</td>\n",
       "      <td>2.564180</td>\n",
       "      <td>73.699794</td>\n",
       "      <td>10.086850</td>\n",
       "      <td>eclat skincare</td>\n",
       "      <td>1.0</td>\n",
       "      <td>serum</td>\n",
       "      <td>low</td>\n",
       "    </tr>\n",
       "    <tr>\n",
       "      <th>1237</th>\n",
       "      <td>𝗪𝗜𝗡𝗡𝗘𝗥 𝟮𝟬𝟮𝟯* turmeric face mask, aztec clay ma...</td>\n",
       "      <td>2.301585</td>\n",
       "      <td>2.727853</td>\n",
       "      <td>90.017131</td>\n",
       "      <td>5.293305</td>\n",
       "      <td>betty rose's botanicals</td>\n",
       "      <td>1.0</td>\n",
       "      <td>clay mask</td>\n",
       "      <td>low</td>\n",
       "    </tr>\n",
       "  </tbody>\n",
       "</table>\n",
       "<p>1205 rows × 9 columns</p>\n",
       "</div>"
      ],
      "text/plain": [
       "                                           product_name     price  listPrice  \\\n",
       "0      yopela 14 pack natural lip balm in bulk with ...  1.885553   2.476538   \n",
       "1     #ootd vegan hydrating korean face mask sheet p...  3.552487   3.694116   \n",
       "2     beauty of joseon centella asiatica calming mas...  2.804572   3.258097   \n",
       "3     beauty of joseon radiance cleansing balm (100m...  2.895912   2.995732   \n",
       "4     cosrx salicylic acid daily gentle cleanser 150...  2.707383   3.010621   \n",
       "...                                                 ...       ...        ...   \n",
       "1233  zeoclay face mask - 100% organic spa quality -...  3.669697   3.828424   \n",
       "1234         zo skin health gentle cleanser 6.7 fl. oz.  3.634951   3.736955   \n",
       "1235    zum face sugar facial scrub - lemongrass - 4 oz  2.788093   3.070840   \n",
       "1236  𝗧𝗢𝗣 𝟮𝟬𝟮𝟯* hyaluronic acid face serum - 2.5% pu...  2.396986   2.564180   \n",
       "1237  𝗪𝗜𝗡𝗡𝗘𝗥 𝟮𝟬𝟮𝟯* turmeric face mask, aztec clay ma...  2.301585   2.727853   \n",
       "\n",
       "          rating  totalReviews          product_company  isPrimeEligible  \\\n",
       "0      73.699794      5.743003                   yopela              1.0   \n",
       "1      90.017131      5.945421                    #ootd              1.0   \n",
       "2      90.017131      4.912655         beauty of joseon              1.0   \n",
       "3      99.484316      5.713733         beauty of joseon              1.0   \n",
       "4      99.484316      7.366445                    cosrx              1.0   \n",
       "...          ...           ...                      ...              ...   \n",
       "1233  148.413159      3.044522                  zeoclay              1.0   \n",
       "1234  109.947172      6.408529           zo skin health              1.0   \n",
       "1235   90.017131      5.117994                      zum              1.0   \n",
       "1236   73.699794     10.086850           eclat skincare              1.0   \n",
       "1237   90.017131      5.293305  betty rose's botanicals              1.0   \n",
       "\n",
       "           Category price_range  \n",
       "0           lipbalm         low  \n",
       "1        sheet mask      medium  \n",
       "2        sheet mask         low  \n",
       "3     cleansing oil      medium  \n",
       "4          cleanser         low  \n",
       "...             ...         ...  \n",
       "1233      clay mask      medium  \n",
       "1234       cleanser      medium  \n",
       "1235     face scrub         low  \n",
       "1236          serum         low  \n",
       "1237      clay mask         low  \n",
       "\n",
       "[1205 rows x 9 columns]"
      ]
     },
     "execution_count": 145,
     "metadata": {},
     "output_type": "execute_result"
    }
   ],
   "source": [
    "product_dfv3"
   ]
  },
  {
   "cell_type": "code",
   "execution_count": 153,
   "id": "4e9c3937",
   "metadata": {},
   "outputs": [
    {
     "name": "stdout",
     "output_type": "stream",
     "text": [
      "Accuracy: 0.9543568464730291\n"
     ]
    },
    {
     "data": {
      "image/png": "[encoded data removed]",
      "text/plain": [
       "<Figure size 800x600 with 1 Axes>"
      ]
     },
     "metadata": {},
     "output_type": "display_data"
    }
   ],
   "source": [
    "# Define the features (attributes) for prediction\n",
    "# In this case, we are using 'rating', 'totalReviews', and other continuous features\n",
    "features = ['rating', 'totalReviews', 'price', 'listPrice']  # Add relevant continuous features\n",
    "\n",
    "# Split the dataset into training and testing sets\n",
    "X_train, X_test, y_train, y_test = train_test_split(product_dfv3[features], product_dfv3['price_range'], test_size=0.2, random_state=42)\n",
    "\n",
    "# Initialize and train the Gaussian Naive Bayes model\n",
    "model = GaussianNB()\n",
    "model.fit(X_train, y_train)\n",
    "\n",
    "# Make predictions on the test set\n",
    "y_pred = model.predict(X_test)\n",
    "\n",
    "# Calculate the accuracy of the model\n",
    "accuracy = accuracy_score(y_test, y_pred)\n",
    "print(f\"Accuracy: {accuracy}\")\n",
    "\n",
    "from sklearn.metrics import confusion_matrix\n",
    "import seaborn as sns\n",
    "import matplotlib.pyplot as plt\n",
    "\n",
    "# Calculate the confusion matrix\n",
    "cm = confusion_matrix(y_test, y_pred)\n",
    "\n",
    "# Define a custom color map with better contrast\n",
    "cmap = sns.light_palette(\"purple\", as_cmap=True)\n",
    "\n",
    "# Plot the confusion matrix with improved visibility\n",
    "plt.figure(figsize=(8, 6))\n",
    "sns.heatmap(cm, annot=True, fmt=\"d\", cmap=cmap, xticklabels=[\"Low\", \"Medium\", \"High\"], yticklabels=[\"Low\", \"Medium\", \"High\"], linewidths=.5, cbar=False)\n",
    "plt.xlabel(\"Predicted\")\n",
    "plt.ylabel(\"Actual\")\n",
    "plt.title(\"Confusion Matrix\")\n",
    "plt.show()"
   ]
  },
  {
   "cell_type": "code",
   "execution_count": 167,
   "id": "efbda61d",
   "metadata": {},
   "outputs": [
    {
     "name": "stdout",
     "output_type": "stream",
     "text": [
      "              precision    recall  f1-score   support\n",
      "\n",
      "         Low       0.00      0.00      0.00         6\n",
      "      Medium       0.98      1.00      0.99       235\n",
      "\n",
      "    accuracy                           0.98       241\n",
      "   macro avg       0.49      0.50      0.49       241\n",
      "weighted avg       0.95      0.98      0.96       241\n",
      "\n"
     ]
    },
    {
     "name": "stderr",
     "output_type": "stream",
     "text": [
      "C:\\Users\\vakit\\anaconda3\\lib\\site-packages\\sklearn\\metrics\\_classification.py:1318: UndefinedMetricWarning: Precision and F-score are ill-defined and being set to 0.0 in labels with no predicted samples. Use `zero_division` parameter to control this behavior.\n",
      "  _warn_prf(average, modifier, msg_start, len(result))\n",
      "C:\\Users\\vakit\\anaconda3\\lib\\site-packages\\sklearn\\metrics\\_classification.py:1318: UndefinedMetricWarning: Precision and F-score are ill-defined and being set to 0.0 in labels with no predicted samples. Use `zero_division` parameter to control this behavior.\n",
      "  _warn_prf(average, modifier, msg_start, len(result))\n",
      "C:\\Users\\vakit\\anaconda3\\lib\\site-packages\\sklearn\\metrics\\_classification.py:1318: UndefinedMetricWarning: Precision and F-score are ill-defined and being set to 0.0 in labels with no predicted samples. Use `zero_division` parameter to control this behavior.\n",
      "  _warn_prf(average, modifier, msg_start, len(result))\n"
     ]
    }
   ],
   "source": [
    "from sklearn.metrics import classification_report\n",
    "\n",
    "# Generate a classification report\n",
    "report = classification_report(y_test, y_pred, target_names=[\"Low\", \"Medium\"])\n",
    "\n",
    "# Print the classification report\n",
    "print(report)"
   ]
  },
  {
   "cell_type": "markdown",
   "id": "04ad8706",
   "metadata": {},
   "source": [
    "In summary, the model performed well in predicting \"Medium\" products with high accuracy, but it struggles to predict \"Low\" products. The overall performance is good when considering the weighted average, but it's important to understand the specific challenges with individual classes."
   ]
  },
  {
   "cell_type": "code",
   "execution_count": 163,
   "id": "5b06bb47",
   "metadata": {},
   "outputs": [
    {
     "data": {
      "image/png": "[encoded data removed]",
      "text/plain": [
       "<Figure size 1000x600 with 1 Axes>"
      ]
     },
     "metadata": {},
     "output_type": "display_data"
    }
   ],
   "source": [
    "from sklearn.metrics import classification_report\n",
    "import matplotlib.pyplot as plt\n",
    "\n",
    "# Calculate precision, recall, and F1-score\n",
    "report = classification_report(y_test, y_pred, target_names=[\"Low\", \"Medium\"], output_dict=True)\n",
    "\n",
    "# Extract the metrics\n",
    "precision = [report[\"Low\"][\"precision\"], report[\"Medium\"][\"precision\"]]\n",
    "recall = [report[\"Low\"][\"recall\"], report[\"Medium\"][\"recall\"]]\n",
    "f1_score = [report[\"Low\"][\"f1-score\"], report[\"Medium\"][\"f1-score\"]]\n",
    "categories = [\"Low\", \"Medium\"]\n",
    "\n",
    "# Plot precision, recall, and F1-score\n",
    "x = range(len(categories))\n",
    "width = 0.2\n",
    "\n",
    "fig, ax = plt.subplots(figsize=(10, 6))\n",
    "\n",
    "bar1 = ax.bar(x, precision, width, label=\"Precision\")\n",
    "bar2 = ax.bar([i + width for i in x], recall, width, label=\"Recall\")\n",
    "bar3 = ax.bar([i + 2 * width for i in x], f1_score, width, label=\"F1-Score\")\n",
    "\n",
    "ax.set_xlabel(\"Price Range\")\n",
    "ax.set_ylabel(\"Scores\")\n",
    "ax.set_title(\"Precision, Recall, and F1-Score by Price Range\")\n",
    "ax.set_xticks([i + width for i in x])\n",
    "ax.set_xticklabels(categories)\n",
    "ax.legend()\n",
    "\n",
    "plt.show()"
   ]
  },
  {
   "cell_type": "markdown",
   "id": "2ba0e12b",
   "metadata": {},
   "source": [
    "\"High\" category in the confusion matrix is still not clearly visible, it might be due to class imbalance where there are very few instances of the \"High\" class compared to \"Low\" and \"Medium.\" \n",
    "\n",
    "In the accuracy report for the Gaussian Naive Bayes model, two distinct classes, \"Low\" and \"Medium,\" were observed, constituting a binary classification problem. Essential evaluation metrics for determining the model's ability to accurately classify products into these categories included precision and recall. For \"Low\" products, a precision of 0.00 was demonstrated, signifying that no correct positive predictions were made for this class. This indicated that products had been categorized as \"Low\" by the model, resulting in almost entirely incorrect classifications. Conversely, for \"Medium\" products, a precision of 0.98 was exhibited, suggesting that a significant majority of the products classified as \"Medium\" by the model were indeed \"Medium\" products. However, precision alone did not present a comprehensive perspective on model performance.\n",
    "\n",
    "Regarding recall, it was found that the model's performance displayed significant disparities. The recall for \"Low\" products was 0.00, signifying that the model had failed to correctly identify any \"Low\" products. In contrast, for \"Medium\" products, a recall of 1.00 was achieved, indicating the successful recognition of all \"Medium\" products by the model. This significant discrepancy underscored a pivotal facet of the model's performance. While it had excelled in accurately classifying \"Medium\" products, it had encountered considerable difficulties when dealing with \"Low\" products. The F1-score, which harmonized precision and recall, had echoed this sentiment. The F1-score for \"Low\" had been 0.00, highlighting the absence of true positives in this category, while the F1-score for \"Medium\" had reached a robust 0.99, indicating the proficiency of the model in predicting this class. In conclusion, the Gaussian Naive Bayes model had showcased strong classification performance for \"Medium\" products but had faced significant challenges with \"Low\" products, resulting in an accuracy report characterized by a considerable gap in performance between the two classes."
   ]
  },
  {
   "cell_type": "code",
   "execution_count": 165,
   "id": "37fd742d",
   "metadata": {},
   "outputs": [
    {
     "name": "stdout",
     "output_type": "stream",
     "text": [
      "Accuracy: 0.975103734439834\n"
     ]
    },
    {
     "data": {
      "image/png": "[encoded data removed]",
      "text/plain": [
       "<Figure size 800x600 with 1 Axes>"
      ]
     },
     "metadata": {},
     "output_type": "display_data"
    },
    {
     "name": "stdout",
     "output_type": "stream",
     "text": [
      "                    precision    recall  f1-score   support\n",
      "\n",
      "Not Prime Eligible       0.00      0.00      0.00         6\n",
      "    Prime Eligible       0.98      1.00      0.99       235\n",
      "\n",
      "          accuracy                           0.98       241\n",
      "         macro avg       0.49      0.50      0.49       241\n",
      "      weighted avg       0.95      0.98      0.96       241\n",
      "\n"
     ]
    },
    {
     "name": "stderr",
     "output_type": "stream",
     "text": [
      "C:\\Users\\vakit\\anaconda3\\lib\\site-packages\\sklearn\\metrics\\_classification.py:1318: UndefinedMetricWarning: Precision and F-score are ill-defined and being set to 0.0 in labels with no predicted samples. Use `zero_division` parameter to control this behavior.\n",
      "  _warn_prf(average, modifier, msg_start, len(result))\n",
      "C:\\Users\\vakit\\anaconda3\\lib\\site-packages\\sklearn\\metrics\\_classification.py:1318: UndefinedMetricWarning: Precision and F-score are ill-defined and being set to 0.0 in labels with no predicted samples. Use `zero_division` parameter to control this behavior.\n",
      "  _warn_prf(average, modifier, msg_start, len(result))\n",
      "C:\\Users\\vakit\\anaconda3\\lib\\site-packages\\sklearn\\metrics\\_classification.py:1318: UndefinedMetricWarning: Precision and F-score are ill-defined and being set to 0.0 in labels with no predicted samples. Use `zero_division` parameter to control this behavior.\n",
      "  _warn_prf(average, modifier, msg_start, len(result))\n"
     ]
    }
   ],
   "source": [
    "import pandas as pd\n",
    "from sklearn.model_selection import train_test_split\n",
    "from sklearn.naive_bayes import BernoulliNB\n",
    "from sklearn.metrics import accuracy_score, classification_report, confusion_matrix\n",
    "import seaborn as sns\n",
    "import matplotlib.pyplot as plt\n",
    "\n",
    "# Define your features (X) and target variable (y)\n",
    "features = ['rating', 'totalReviews', 'price', 'listPrice']   # Features\n",
    "X = product_dfv3[features]\n",
    "y = product_dfv3['isPrimeEligible']  # Target variable\n",
    "\n",
    "# Split the data into training and testing sets\n",
    "X_train, X_test, y_train, y_test = train_test_split(X, y, test_size=0.2, random_state=42)\n",
    "\n",
    "# Initialize and train the Bernoulli Naive Bayes model\n",
    "model = BernoulliNB()\n",
    "model.fit(X_train, y_train)\n",
    "\n",
    "# Make predictions on the test set\n",
    "y_pred = model.predict(X_test)\n",
    "\n",
    "# Calculate the accuracy of the model\n",
    "accuracy = accuracy_score(y_test, y_pred)\n",
    "print(f\"Accuracy: {accuracy}\")\n",
    "\n",
    "# Calculate the confusion matrix\n",
    "cm = confusion_matrix(y_test, y_pred)\n",
    "\n",
    "# Plot the confusion matrix\n",
    "plt.figure(figsize=(8, 6))\n",
    "sns.heatmap(cm, annot=True, fmt=\"d\", cmap=\"YlGnBu\", xticklabels=[\"Not Prime Eligible\", \"Prime Eligible\"], yticklabels=[\"Not Prime Eligible\", \"Prime Eligible\"], linewidths=.5, cbar=False)\n",
    "plt.xlabel(\"Predicted\")\n",
    "plt.ylabel(\"Actual\")\n",
    "plt.title(\"Confusion Matrix\")\n",
    "plt.show()\n",
    "\n",
    "# Generate a classification report\n",
    "report = classification_report(y_test, y_pred, target_names=[\"Not Prime Eligible\", \"Prime Eligible\"])\n",
    "print(report)"
   ]
  },
  {
   "cell_type": "markdown",
   "id": "55847f6e",
   "metadata": {},
   "source": [
    "The model performed very well in predicting \"Prime Eligible\" products, achieving high precision, recall, and F1-score for this class. However, it performs poorly in predicting \"Not Prime Eligible\" products, as indicated by low precision, recall, and F1-score for this class. The high accuracy is primarily due to the large number of \"Prime Eligible\" instances, while the \"Not Prime Eligible\" class has very few instances. "
   ]
  },
  {
   "cell_type": "markdown",
   "id": "7762c149",
   "metadata": {},
   "source": [
    "In the accuracy report for the Bernoulli Naive Bayes model, a binary classification scenario with two classes, \"Not Prime Eligible\" and \"Prime Eligible,\" was presented. Critical metrics for evaluating the model's ability to accurately classify products into these two categories included precision, recall, and F1-score. For products categorized as \"Not Prime Eligible,\" a precision of 0.00 was displayed by the model, suggesting that no correct positive predictions were made in this class. This implied that the model's performance for \"Not Prime Eligible\" products was exceptionally poor, with virtually no accurate identifications. Conversely, for \"Prime Eligible\" products, a high precision of 0.98 was achieved, indicating that the majority of products designated as \"Prime Eligible\" genuinely belonged to this category. However, precision alone did not offer a complete view of the model's performance.\n",
    "\n",
    "The recall metrics revealed a stark contrast in the model's performance. For \"Not Prime Eligible\" products, a recall of 0.00 was observed, signifying that no correct identifications were made for these products by the model. In contrast, \"Prime Eligible\" products attained a recall of 1.00, indicating that all \"Prime Eligible\" products were effectively recognized by the model. This significant disparity underscored a crucial aspect of the model's performance, where it excelled in accurately classifying \"Prime Eligible\" products but significantly struggled when dealing with \"Not Prime Eligible\" products. The F1-score, which struck a balance between precision and recall, echoed this sentiment. The F1-score for \"Not Prime Eligible\" was 0.00, emphasizing the absence of true positives in this category, while the F1-score for \"Prime Eligible\" was a substantial 0.99, highlighting the model's proficiency in predicting this class. In conclusion, the Bernoulli Naive Bayes model exhibited robust classification performance for \"Prime Eligible\" products but fared poorly in the case of \"Not Prime Eligible\" products, resulting in an accuracy report characterized by a significant disparity between the two classes."
   ]
  },
  {
   "cell_type": "code",
   "execution_count": null,
   "id": "98e316e0",
   "metadata": {},
   "outputs": [],
   "source": []
  }
 ],
 "metadata": {
  "kernelspec": {
   "display_name": "Python 3 (ipykernel)",
   "language": "python",
   "name": "python3"
  },
  "language_info": {
   "codemirror_mode": {
    "name": "ipython",
    "version": 3
   },
   "file_extension": ".py",
   "mimetype": "text/x-python",
   "name": "python",
   "nbconvert_exporter": "python",
   "pygments_lexer": "ipython3",
   "version": "3.9.13"
  }
 },
 "nbformat": 4,
 "nbformat_minor": 5
}
