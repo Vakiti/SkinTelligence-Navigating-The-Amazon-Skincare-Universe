{
 "cells": [
  {
   "cell_type": "code",
   "execution_count": 75,
   "id": "57c16676",
   "metadata": {},
   "outputs": [],
   "source": [
    "import pandas as pd\n",
    "import numpy as np\n",
    "import seaborn as sns"
   ]
  },
  {
   "cell_type": "code",
   "execution_count": 76,
   "id": "0ceed832",
   "metadata": {},
   "outputs": [],
   "source": [
    "#load dataset\n",
    "product_dfv1=pd.read_csv(\"https://raw.githubusercontent.com/Vakiti/SkinTelligence-Navigating-The-Amazon-Skincare-Universe/datasets/final_dataset.csv\")\n",
    "\n",
    "#Copy dataset\n",
    "product_dfv2=product_dfv1.copy()"
   ]
  },
  {
   "cell_type": "code",
   "execution_count": 77,
   "id": "0060661e",
   "metadata": {},
   "outputs": [
    {
     "data": {
      "text/html": [
       "<div>\n",
       "<style scoped>\n",
       "    .dataframe tbody tr th:only-of-type {\n",
       "        vertical-align: middle;\n",
       "    }\n",
       "\n",
       "    .dataframe tbody tr th {\n",
       "        vertical-align: top;\n",
       "    }\n",
       "\n",
       "    .dataframe thead th {\n",
       "        text-align: right;\n",
       "    }\n",
       "</style>\n",
       "<table border=\"1\" class=\"dataframe\">\n",
       "  <thead>\n",
       "    <tr style=\"text-align: right;\">\n",
       "      <th></th>\n",
       "      <th>ASIN</th>\n",
       "      <th>product_name</th>\n",
       "      <th>price</th>\n",
       "      <th>listPrice</th>\n",
       "      <th>detailPageURL</th>\n",
       "      <th>rating</th>\n",
       "      <th>totalReviews</th>\n",
       "      <th>product_company</th>\n",
       "      <th>isPrimeEligible</th>\n",
       "      <th>Category</th>\n",
       "      <th>ingredients</th>\n",
       "      <th>highlights</th>\n",
       "    </tr>\n",
       "  </thead>\n",
       "  <tbody>\n",
       "    <tr>\n",
       "      <th>0</th>\n",
       "      <td>B0C2NBW5LM</td>\n",
       "      <td>yopela 14 pack natural lip balm in bulk with ...</td>\n",
       "      <td>5.59</td>\n",
       "      <td>NaN</td>\n",
       "      <td>https://www.amazon.com/dp/B0C2NBW5LM</td>\n",
       "      <td>4.3</td>\n",
       "      <td>311.0</td>\n",
       "      <td>yopela</td>\n",
       "      <td>1.0</td>\n",
       "      <td>lipbalm</td>\n",
       "      <td>Not found</td>\n",
       "      <td>Not found</td>\n",
       "    </tr>\n",
       "    <tr>\n",
       "      <th>1</th>\n",
       "      <td>B0B43WPH44</td>\n",
       "      <td>#ootd vegan hydrating korean face mask sheet p...</td>\n",
       "      <td>33.90</td>\n",
       "      <td>NaN</td>\n",
       "      <td>https://www.amazon.com/dp/B0B43WPH44</td>\n",
       "      <td>4.5</td>\n",
       "      <td>381.0</td>\n",
       "      <td>#ootd</td>\n",
       "      <td>1.0</td>\n",
       "      <td>sheet mask</td>\n",
       "      <td>Not found</td>\n",
       "      <td>Not found</td>\n",
       "    </tr>\n",
       "    <tr>\n",
       "      <th>2</th>\n",
       "      <td>B083QCJPDD</td>\n",
       "      <td>beauty of joseon centella asiatica calming mas...</td>\n",
       "      <td>15.52</td>\n",
       "      <td>25.00</td>\n",
       "      <td>https://www.amazon.com/dp/B083QCJPDD</td>\n",
       "      <td>4.5</td>\n",
       "      <td>135.0</td>\n",
       "      <td>beauty of joseon</td>\n",
       "      <td>1.0</td>\n",
       "      <td>sheet mask</td>\n",
       "      <td>Not found</td>\n",
       "      <td>Not found</td>\n",
       "    </tr>\n",
       "    <tr>\n",
       "      <th>3</th>\n",
       "      <td>B0B3R661JP</td>\n",
       "      <td>beauty of joseon radiance cleansing balm (100m...</td>\n",
       "      <td>17.10</td>\n",
       "      <td>19.00</td>\n",
       "      <td>https://www.amazon.com/dp/B0B3R661JP</td>\n",
       "      <td>4.6</td>\n",
       "      <td>302.0</td>\n",
       "      <td>beauty of joseon</td>\n",
       "      <td>1.0</td>\n",
       "      <td>cleansing oil</td>\n",
       "      <td>Not found</td>\n",
       "      <td>Not found</td>\n",
       "    </tr>\n",
       "    <tr>\n",
       "      <th>4</th>\n",
       "      <td>B00OZ6W8DW</td>\n",
       "      <td>cosrx salicylic acid daily gentle cleanser 150...</td>\n",
       "      <td>13.99</td>\n",
       "      <td>NaN</td>\n",
       "      <td>https://www.amazon.com/dp/B00OZ6W8DW</td>\n",
       "      <td>4.6</td>\n",
       "      <td>1581.0</td>\n",
       "      <td>cosrx</td>\n",
       "      <td>1.0</td>\n",
       "      <td>cleanser</td>\n",
       "      <td>Not found</td>\n",
       "      <td>Not found</td>\n",
       "    </tr>\n",
       "    <tr>\n",
       "      <th>...</th>\n",
       "      <td>...</td>\n",
       "      <td>...</td>\n",
       "      <td>...</td>\n",
       "      <td>...</td>\n",
       "      <td>...</td>\n",
       "      <td>...</td>\n",
       "      <td>...</td>\n",
       "      <td>...</td>\n",
       "      <td>...</td>\n",
       "      <td>...</td>\n",
       "      <td>...</td>\n",
       "      <td>...</td>\n",
       "    </tr>\n",
       "    <tr>\n",
       "      <th>1233</th>\n",
       "      <td>B0BQ3R8LH7</td>\n",
       "      <td>zeoclay face mask - 100% organic spa quality -...</td>\n",
       "      <td>38.24</td>\n",
       "      <td>44.99</td>\n",
       "      <td>https://www.amazon.com/dp/B0BQ3R8LH7</td>\n",
       "      <td>5.0</td>\n",
       "      <td>20.0</td>\n",
       "      <td>zeoclay</td>\n",
       "      <td>1.0</td>\n",
       "      <td>clay mask</td>\n",
       "      <td>Not found</td>\n",
       "      <td>Not found</td>\n",
       "    </tr>\n",
       "    <tr>\n",
       "      <th>1234</th>\n",
       "      <td>B07S472V7D</td>\n",
       "      <td>zo skin health gentle cleanser 6.7 fl. oz.</td>\n",
       "      <td>36.90</td>\n",
       "      <td>40.97</td>\n",
       "      <td>https://www.amazon.com/dp/B07S472V7D</td>\n",
       "      <td>4.7</td>\n",
       "      <td>606.0</td>\n",
       "      <td>zo skin health</td>\n",
       "      <td>1.0</td>\n",
       "      <td>cleanser</td>\n",
       "      <td>Not found</td>\n",
       "      <td>Not found</td>\n",
       "    </tr>\n",
       "    <tr>\n",
       "      <th>1235</th>\n",
       "      <td>B0150GNTQK</td>\n",
       "      <td>zum face sugar facial scrub - lemongrass - 4 oz</td>\n",
       "      <td>15.25</td>\n",
       "      <td>NaN</td>\n",
       "      <td>https://www.amazon.com/dp/B0150GNTQK</td>\n",
       "      <td>4.5</td>\n",
       "      <td>166.0</td>\n",
       "      <td>zum</td>\n",
       "      <td>1.0</td>\n",
       "      <td>face scrub</td>\n",
       "      <td>Not found</td>\n",
       "      <td>Not found</td>\n",
       "    </tr>\n",
       "    <tr>\n",
       "      <th>1236</th>\n",
       "      <td>B07P8ZN5JS</td>\n",
       "      <td>𝗧𝗢𝗣 𝟮𝟬𝟮𝟯* hyaluronic acid face serum - 2.5% pu...</td>\n",
       "      <td>9.99</td>\n",
       "      <td>11.99</td>\n",
       "      <td>https://www.amazon.com/dp/B07P8ZN5JS</td>\n",
       "      <td>4.3</td>\n",
       "      <td>24024.0</td>\n",
       "      <td>eclat skincare</td>\n",
       "      <td>1.0</td>\n",
       "      <td>serum</td>\n",
       "      <td>Not found</td>\n",
       "      <td>Not found</td>\n",
       "    </tr>\n",
       "    <tr>\n",
       "      <th>1237</th>\n",
       "      <td>B09MN49M76</td>\n",
       "      <td>𝗪𝗜𝗡𝗡𝗘𝗥 𝟮𝟬𝟮𝟯* turmeric face mask, aztec clay ma...</td>\n",
       "      <td>8.99</td>\n",
       "      <td>NaN</td>\n",
       "      <td>https://www.amazon.com/dp/B09MN49M76</td>\n",
       "      <td>4.5</td>\n",
       "      <td>198.0</td>\n",
       "      <td>betty rose's botanicals</td>\n",
       "      <td>1.0</td>\n",
       "      <td>clay mask</td>\n",
       "      <td>Not found</td>\n",
       "      <td>Not found</td>\n",
       "    </tr>\n",
       "  </tbody>\n",
       "</table>\n",
       "<p>1238 rows × 12 columns</p>\n",
       "</div>"
      ],
      "text/plain": [
       "            ASIN                                       product_name  price  \\\n",
       "0     B0C2NBW5LM   yopela 14 pack natural lip balm in bulk with ...   5.59   \n",
       "1     B0B43WPH44  #ootd vegan hydrating korean face mask sheet p...  33.90   \n",
       "2     B083QCJPDD  beauty of joseon centella asiatica calming mas...  15.52   \n",
       "3     B0B3R661JP  beauty of joseon radiance cleansing balm (100m...  17.10   \n",
       "4     B00OZ6W8DW  cosrx salicylic acid daily gentle cleanser 150...  13.99   \n",
       "...          ...                                                ...    ...   \n",
       "1233  B0BQ3R8LH7  zeoclay face mask - 100% organic spa quality -...  38.24   \n",
       "1234  B07S472V7D         zo skin health gentle cleanser 6.7 fl. oz.  36.90   \n",
       "1235  B0150GNTQK    zum face sugar facial scrub - lemongrass - 4 oz  15.25   \n",
       "1236  B07P8ZN5JS  𝗧𝗢𝗣 𝟮𝟬𝟮𝟯* hyaluronic acid face serum - 2.5% pu...   9.99   \n",
       "1237  B09MN49M76  𝗪𝗜𝗡𝗡𝗘𝗥 𝟮𝟬𝟮𝟯* turmeric face mask, aztec clay ma...   8.99   \n",
       "\n",
       "      listPrice                         detailPageURL  rating  totalReviews  \\\n",
       "0           NaN  https://www.amazon.com/dp/B0C2NBW5LM     4.3         311.0   \n",
       "1           NaN  https://www.amazon.com/dp/B0B43WPH44     4.5         381.0   \n",
       "2         25.00  https://www.amazon.com/dp/B083QCJPDD     4.5         135.0   \n",
       "3         19.00  https://www.amazon.com/dp/B0B3R661JP     4.6         302.0   \n",
       "4           NaN  https://www.amazon.com/dp/B00OZ6W8DW     4.6        1581.0   \n",
       "...         ...                                   ...     ...           ...   \n",
       "1233      44.99  https://www.amazon.com/dp/B0BQ3R8LH7     5.0          20.0   \n",
       "1234      40.97  https://www.amazon.com/dp/B07S472V7D     4.7         606.0   \n",
       "1235        NaN  https://www.amazon.com/dp/B0150GNTQK     4.5         166.0   \n",
       "1236      11.99  https://www.amazon.com/dp/B07P8ZN5JS     4.3       24024.0   \n",
       "1237        NaN  https://www.amazon.com/dp/B09MN49M76     4.5         198.0   \n",
       "\n",
       "              product_company  isPrimeEligible       Category ingredients  \\\n",
       "0                      yopela              1.0        lipbalm   Not found   \n",
       "1                       #ootd              1.0     sheet mask   Not found   \n",
       "2            beauty of joseon              1.0     sheet mask   Not found   \n",
       "3            beauty of joseon              1.0  cleansing oil   Not found   \n",
       "4                       cosrx              1.0       cleanser   Not found   \n",
       "...                       ...              ...            ...         ...   \n",
       "1233                  zeoclay              1.0      clay mask   Not found   \n",
       "1234           zo skin health              1.0       cleanser   Not found   \n",
       "1235                      zum              1.0     face scrub   Not found   \n",
       "1236           eclat skincare              1.0          serum   Not found   \n",
       "1237  betty rose's botanicals              1.0      clay mask   Not found   \n",
       "\n",
       "     highlights  \n",
       "0     Not found  \n",
       "1     Not found  \n",
       "2     Not found  \n",
       "3     Not found  \n",
       "4     Not found  \n",
       "...         ...  \n",
       "1233  Not found  \n",
       "1234  Not found  \n",
       "1235  Not found  \n",
       "1236  Not found  \n",
       "1237  Not found  \n",
       "\n",
       "[1238 rows x 12 columns]"
      ]
     },
     "execution_count": 77,
     "metadata": {},
     "output_type": "execute_result"
    }
   ],
   "source": [
    "product_dfv1"
   ]
  },
  {
   "cell_type": "code",
   "execution_count": 78,
   "id": "25b91a34",
   "metadata": {},
   "outputs": [
    {
     "data": {
      "text/html": [
       "<div>\n",
       "<style scoped>\n",
       "    .dataframe tbody tr th:only-of-type {\n",
       "        vertical-align: middle;\n",
       "    }\n",
       "\n",
       "    .dataframe tbody tr th {\n",
       "        vertical-align: top;\n",
       "    }\n",
       "\n",
       "    .dataframe thead th {\n",
       "        text-align: right;\n",
       "    }\n",
       "</style>\n",
       "<table border=\"1\" class=\"dataframe\">\n",
       "  <thead>\n",
       "    <tr style=\"text-align: right;\">\n",
       "      <th></th>\n",
       "      <th>product_name</th>\n",
       "      <th>price</th>\n",
       "      <th>listPrice</th>\n",
       "      <th>rating</th>\n",
       "      <th>totalReviews</th>\n",
       "      <th>product_company</th>\n",
       "      <th>isPrimeEligible</th>\n",
       "      <th>Category</th>\n",
       "    </tr>\n",
       "  </thead>\n",
       "  <tbody>\n",
       "    <tr>\n",
       "      <th>0</th>\n",
       "      <td>yopela 14 pack natural lip balm in bulk with ...</td>\n",
       "      <td>5.59</td>\n",
       "      <td>NaN</td>\n",
       "      <td>4.3</td>\n",
       "      <td>311.0</td>\n",
       "      <td>yopela</td>\n",
       "      <td>1.0</td>\n",
       "      <td>lipbalm</td>\n",
       "    </tr>\n",
       "    <tr>\n",
       "      <th>1</th>\n",
       "      <td>#ootd vegan hydrating korean face mask sheet p...</td>\n",
       "      <td>33.90</td>\n",
       "      <td>NaN</td>\n",
       "      <td>4.5</td>\n",
       "      <td>381.0</td>\n",
       "      <td>#ootd</td>\n",
       "      <td>1.0</td>\n",
       "      <td>sheet mask</td>\n",
       "    </tr>\n",
       "    <tr>\n",
       "      <th>2</th>\n",
       "      <td>beauty of joseon centella asiatica calming mas...</td>\n",
       "      <td>15.52</td>\n",
       "      <td>25.00</td>\n",
       "      <td>4.5</td>\n",
       "      <td>135.0</td>\n",
       "      <td>beauty of joseon</td>\n",
       "      <td>1.0</td>\n",
       "      <td>sheet mask</td>\n",
       "    </tr>\n",
       "    <tr>\n",
       "      <th>3</th>\n",
       "      <td>beauty of joseon radiance cleansing balm (100m...</td>\n",
       "      <td>17.10</td>\n",
       "      <td>19.00</td>\n",
       "      <td>4.6</td>\n",
       "      <td>302.0</td>\n",
       "      <td>beauty of joseon</td>\n",
       "      <td>1.0</td>\n",
       "      <td>cleansing oil</td>\n",
       "    </tr>\n",
       "    <tr>\n",
       "      <th>4</th>\n",
       "      <td>cosrx salicylic acid daily gentle cleanser 150...</td>\n",
       "      <td>13.99</td>\n",
       "      <td>NaN</td>\n",
       "      <td>4.6</td>\n",
       "      <td>1581.0</td>\n",
       "      <td>cosrx</td>\n",
       "      <td>1.0</td>\n",
       "      <td>cleanser</td>\n",
       "    </tr>\n",
       "    <tr>\n",
       "      <th>...</th>\n",
       "      <td>...</td>\n",
       "      <td>...</td>\n",
       "      <td>...</td>\n",
       "      <td>...</td>\n",
       "      <td>...</td>\n",
       "      <td>...</td>\n",
       "      <td>...</td>\n",
       "      <td>...</td>\n",
       "    </tr>\n",
       "    <tr>\n",
       "      <th>1233</th>\n",
       "      <td>zeoclay face mask - 100% organic spa quality -...</td>\n",
       "      <td>38.24</td>\n",
       "      <td>44.99</td>\n",
       "      <td>5.0</td>\n",
       "      <td>20.0</td>\n",
       "      <td>zeoclay</td>\n",
       "      <td>1.0</td>\n",
       "      <td>clay mask</td>\n",
       "    </tr>\n",
       "    <tr>\n",
       "      <th>1234</th>\n",
       "      <td>zo skin health gentle cleanser 6.7 fl. oz.</td>\n",
       "      <td>36.90</td>\n",
       "      <td>40.97</td>\n",
       "      <td>4.7</td>\n",
       "      <td>606.0</td>\n",
       "      <td>zo skin health</td>\n",
       "      <td>1.0</td>\n",
       "      <td>cleanser</td>\n",
       "    </tr>\n",
       "    <tr>\n",
       "      <th>1235</th>\n",
       "      <td>zum face sugar facial scrub - lemongrass - 4 oz</td>\n",
       "      <td>15.25</td>\n",
       "      <td>NaN</td>\n",
       "      <td>4.5</td>\n",
       "      <td>166.0</td>\n",
       "      <td>zum</td>\n",
       "      <td>1.0</td>\n",
       "      <td>face scrub</td>\n",
       "    </tr>\n",
       "    <tr>\n",
       "      <th>1236</th>\n",
       "      <td>𝗧𝗢𝗣 𝟮𝟬𝟮𝟯* hyaluronic acid face serum - 2.5% pu...</td>\n",
       "      <td>9.99</td>\n",
       "      <td>11.99</td>\n",
       "      <td>4.3</td>\n",
       "      <td>24024.0</td>\n",
       "      <td>eclat skincare</td>\n",
       "      <td>1.0</td>\n",
       "      <td>serum</td>\n",
       "    </tr>\n",
       "    <tr>\n",
       "      <th>1237</th>\n",
       "      <td>𝗪𝗜𝗡𝗡𝗘𝗥 𝟮𝟬𝟮𝟯* turmeric face mask, aztec clay ma...</td>\n",
       "      <td>8.99</td>\n",
       "      <td>NaN</td>\n",
       "      <td>4.5</td>\n",
       "      <td>198.0</td>\n",
       "      <td>betty rose's botanicals</td>\n",
       "      <td>1.0</td>\n",
       "      <td>clay mask</td>\n",
       "    </tr>\n",
       "  </tbody>\n",
       "</table>\n",
       "<p>1238 rows × 8 columns</p>\n",
       "</div>"
      ],
      "text/plain": [
       "                                           product_name  price  listPrice  \\\n",
       "0      yopela 14 pack natural lip balm in bulk with ...   5.59        NaN   \n",
       "1     #ootd vegan hydrating korean face mask sheet p...  33.90        NaN   \n",
       "2     beauty of joseon centella asiatica calming mas...  15.52      25.00   \n",
       "3     beauty of joseon radiance cleansing balm (100m...  17.10      19.00   \n",
       "4     cosrx salicylic acid daily gentle cleanser 150...  13.99        NaN   \n",
       "...                                                 ...    ...        ...   \n",
       "1233  zeoclay face mask - 100% organic spa quality -...  38.24      44.99   \n",
       "1234         zo skin health gentle cleanser 6.7 fl. oz.  36.90      40.97   \n",
       "1235    zum face sugar facial scrub - lemongrass - 4 oz  15.25        NaN   \n",
       "1236  𝗧𝗢𝗣 𝟮𝟬𝟮𝟯* hyaluronic acid face serum - 2.5% pu...   9.99      11.99   \n",
       "1237  𝗪𝗜𝗡𝗡𝗘𝗥 𝟮𝟬𝟮𝟯* turmeric face mask, aztec clay ma...   8.99        NaN   \n",
       "\n",
       "      rating  totalReviews          product_company  isPrimeEligible  \\\n",
       "0        4.3         311.0                   yopela              1.0   \n",
       "1        4.5         381.0                    #ootd              1.0   \n",
       "2        4.5         135.0         beauty of joseon              1.0   \n",
       "3        4.6         302.0         beauty of joseon              1.0   \n",
       "4        4.6        1581.0                    cosrx              1.0   \n",
       "...      ...           ...                      ...              ...   \n",
       "1233     5.0          20.0                  zeoclay              1.0   \n",
       "1234     4.7         606.0           zo skin health              1.0   \n",
       "1235     4.5         166.0                      zum              1.0   \n",
       "1236     4.3       24024.0           eclat skincare              1.0   \n",
       "1237     4.5         198.0  betty rose's botanicals              1.0   \n",
       "\n",
       "           Category  \n",
       "0           lipbalm  \n",
       "1        sheet mask  \n",
       "2        sheet mask  \n",
       "3     cleansing oil  \n",
       "4          cleanser  \n",
       "...             ...  \n",
       "1233      clay mask  \n",
       "1234       cleanser  \n",
       "1235     face scrub  \n",
       "1236          serum  \n",
       "1237      clay mask  \n",
       "\n",
       "[1238 rows x 8 columns]"
      ]
     },
     "execution_count": 78,
     "metadata": {},
     "output_type": "execute_result"
    }
   ],
   "source": [
    "#drop unneccessary columns\n",
    "product_dfv2=product_dfv2.drop(columns=['ASIN','detailPageURL','ingredients', 'highlights'], axis=1)\n",
    "product_dfv2"
   ]
  },
  {
   "cell_type": "code",
   "execution_count": 79,
   "id": "fb5258e8",
   "metadata": {},
   "outputs": [
    {
     "data": {
      "text/plain": [
       "product_name         0\n",
       "price                2\n",
       "listPrice          709\n",
       "rating              32\n",
       "totalReviews        32\n",
       "product_company      0\n",
       "isPrimeEligible      2\n",
       "Category             0\n",
       "dtype: int64"
      ]
     },
     "execution_count": 79,
     "metadata": {},
     "output_type": "execute_result"
    }
   ],
   "source": [
    "#duplicate values checking\n",
    "product_dfv1.duplicated().sum()\n",
    "\n",
    "#missing values checking\n",
    "product_dfv2.isnull().sum()"
   ]
  },
  {
   "cell_type": "code",
   "execution_count": 80,
   "id": "069f72fc",
   "metadata": {},
   "outputs": [
    {
     "data": {
      "text/plain": [
       "product_name       0\n",
       "price              0\n",
       "listPrice          0\n",
       "rating             0\n",
       "totalReviews       0\n",
       "product_company    0\n",
       "isPrimeEligible    0\n",
       "Category           0\n",
       "dtype: int64"
      ]
     },
     "execution_count": 80,
     "metadata": {},
     "output_type": "execute_result"
    }
   ],
   "source": [
    "'''Imputation of missing values in listPrice column through average price difference'''\n",
    "\n",
    "# Calculating the average difference between price and listPrice\n",
    "average_difference = product_dfv2.loc[product_dfv2['listPrice'].notnull(), 'listPrice'].mean() - product_dfv2.loc[product_dfv2['listPrice'].notnull(), 'price'].mean()\n",
    "\n",
    "# Defining a function to fill missing listPrice values\n",
    "def fill_missing_listPrice(row):\n",
    "    if pd.notnull(row['listPrice']):\n",
    "        return row['listPrice']\n",
    "    else:\n",
    "        return row['price'] + average_difference\n",
    "\n",
    "# Applying the function to fill missing listPrice values\n",
    "product_dfv2['listPrice'] = product_dfv2.apply(fill_missing_listPrice, axis=1)\n",
    "product_dfv2['listPrice']=product_dfv2['listPrice']. round(2) \n",
    "\n",
    "#missing values checking\n",
    "product_dfv2.isnull().sum()\n",
    "\n",
    "#removing the 2 rows having missing values\n",
    "product_dfv2 = product_dfv2.dropna(subset=['price', 'rating','totalReviews'])\n",
    "product_dfv2.isna().sum()"
   ]
  },
  {
   "cell_type": "code",
   "execution_count": 81,
   "id": "dc1085b7",
   "metadata": {},
   "outputs": [
    {
     "name": "stdout",
     "output_type": "stream",
     "text": [
      "clay mask         99\n",
      "eye cream         98\n",
      "sheet mask        97\n",
      "sunscreen         97\n",
      "moisturizer       97\n",
      "serum             96\n",
      "lipbalm           94\n",
      "cleanser          94\n",
      "cleansing balm    81\n",
      "body scrub        73\n",
      "exfoliator        67\n",
      "cleansing oil     66\n",
      "eye mask          56\n",
      "face scrub        52\n",
      "essence           27\n",
      "face mask         11\n",
      "Name: Category, dtype: int64\n",
      "4.6    287\n",
      "4.5    225\n",
      "4.7    210\n",
      "4.4    169\n",
      "4.3    121\n",
      "4.8     67\n",
      "4.2     48\n",
      "4.0     21\n",
      "4.1     20\n",
      "4.9      9\n",
      "5.0      8\n",
      "3.9      8\n",
      "3.7      2\n",
      "3.8      2\n",
      "3.5      1\n",
      "2.8      1\n",
      "3.2      1\n",
      "3.6      1\n",
      "3.3      1\n",
      "1.0      1\n",
      "3.4      1\n",
      "3.0      1\n",
      "Name: rating, dtype: int64\n"
     ]
    }
   ],
   "source": [
    "print(product_dfv2['Category'].value_counts())\n",
    "print(product_dfv2['rating'].value_counts())"
   ]
  },
  {
   "cell_type": "code",
   "execution_count": 82,
   "id": "36e50224",
   "metadata": {
    "scrolled": true
   },
   "outputs": [
    {
     "name": "stdout",
     "output_type": "stream",
     "text": [
      "{0: 'body scrub', 1: 'clay mask', 2: 'cleanser', 3: 'cleansing balm', 4: 'cleansing oil', 5: 'essence', 6: 'exfoliator', 7: 'eye cream', 8: 'eye mask', 9: 'face mask', 10: 'face scrub', 11: 'lipbalm', 12: 'moisturizer', 13: 'serum', 14: 'sheet mask', 15: 'sunscreen'}\n"
     ]
    },
    {
     "name": "stderr",
     "output_type": "stream",
     "text": [
      "C:\\Users\\vakit\\AppData\\Local\\Temp\\ipykernel_17056\\3875970430.py:5: SettingWithCopyWarning: \n",
      "A value is trying to be set on a copy of a slice from a DataFrame.\n",
      "Try using .loc[row_indexer,col_indexer] = value instead\n",
      "\n",
      "See the caveats in the documentation: https://pandas.pydata.org/pandas-docs/stable/user_guide/indexing.html#returning-a-view-versus-a-copy\n",
      "  product_dfv2.loc[:, 'rating_category'] = pd.cut(product_dfv2['rating'], bins=bins, labels=labels)\n",
      "C:\\Users\\vakit\\AppData\\Local\\Temp\\ipykernel_17056\\3875970430.py:13: SettingWithCopyWarning: \n",
      "A value is trying to be set on a copy of a slice from a DataFrame.\n",
      "Try using .loc[row_indexer,col_indexer] = value instead\n",
      "\n",
      "See the caveats in the documentation: https://pandas.pydata.org/pandas-docs/stable/user_guide/indexing.html#returning-a-view-versus-a-copy\n",
      "  product_dfv2['category_encoded'] = label_encoder.fit_transform(product_dfv2['Category'])\n"
     ]
    }
   ],
   "source": [
    "# Convert \"rating\" into discrete classes\n",
    "# Define your rating bins based on your dataset\n",
    "bins = [1.0, 2.5, 3.5, 4.0, 4.5, 5.0]  # Adjust the bin ranges as needed\n",
    "labels = ['VeryLow', 'Low', 'Moderate', 'High', 'VeryHigh']\n",
    "product_dfv2.loc[:, 'rating_category'] = pd.cut(product_dfv2['rating'], bins=bins, labels=labels)\n",
    "\n",
    "from sklearn.preprocessing import LabelEncoder\n",
    "\n",
    "# Initialize the label encoder\n",
    "label_encoder = LabelEncoder()\n",
    "\n",
    "# Encode the 'Category' column and store it in a new column 'category_encoded'\n",
    "product_dfv2['category_encoded'] = label_encoder.fit_transform(product_dfv2['Category'])\n",
    "\n",
    "# Get the mapping between numerical values and categories\n",
    "category_mapping = dict(zip(range(len(label_encoder.classes_)), label_encoder.classes_))\n",
    "\n",
    "# Print the mapping\n",
    "print(category_mapping)"
   ]
  },
  {
   "cell_type": "code",
   "execution_count": 83,
   "id": "f7d67c84",
   "metadata": {
    "scrolled": true
   },
   "outputs": [
    {
     "data": {
      "image/png": "[encoded data removed]",
      "text/plain": [
       "<Figure size 1000x800 with 2 Axes>"
      ]
     },
     "metadata": {},
     "output_type": "display_data"
    }
   ],
   "source": [
    "import pandas as pd\n",
    "import seaborn as sns\n",
    "import matplotlib.pyplot as plt\n",
    "\n",
    "# Assuming your dataset is in a DataFrame called \"product_dfv3\"\n",
    "# Select the columns you want to include in the correlation matrix\n",
    "selected_columns = ['rating', 'totalReviews', 'price', 'listPrice']\n",
    "\n",
    "# Calculate the correlation matrix\n",
    "correlation_matrix = product_dfv2[selected_columns].corr()\n",
    "\n",
    "# Create a heatmap to visualize the correlation matrix\n",
    "plt.figure(figsize=(10, 8))\n",
    "sns.heatmap(correlation_matrix, annot=True, cmap='coolwarm', fmt=\".2f\")\n",
    "plt.title('Correlation Matrix')\n",
    "plt.show()"
   ]
  },
  {
   "cell_type": "code",
   "execution_count": 84,
   "id": "4266402a",
   "metadata": {},
   "outputs": [
    {
     "name": "stdout",
     "output_type": "stream",
     "text": [
      "X_train shape: (964, 3)\n",
      "y_train_encoded shape: (964,)\n"
     ]
    }
   ],
   "source": [
    "print(\"X_train shape:\", X_train.shape)\n",
    "print(\"y_train_encoded shape:\", y_train_encoded.shape)"
   ]
  },
  {
   "cell_type": "code",
   "execution_count": 85,
   "id": "8cbda11c",
   "metadata": {},
   "outputs": [
    {
     "data": {
      "text/html": [
       "<div>\n",
       "<style scoped>\n",
       "    .dataframe tbody tr th:only-of-type {\n",
       "        vertical-align: middle;\n",
       "    }\n",
       "\n",
       "    .dataframe tbody tr th {\n",
       "        vertical-align: top;\n",
       "    }\n",
       "\n",
       "    .dataframe thead th {\n",
       "        text-align: right;\n",
       "    }\n",
       "</style>\n",
       "<table border=\"1\" class=\"dataframe\">\n",
       "  <thead>\n",
       "    <tr style=\"text-align: right;\">\n",
       "      <th></th>\n",
       "      <th>product_name</th>\n",
       "      <th>price</th>\n",
       "      <th>listPrice</th>\n",
       "      <th>rating</th>\n",
       "      <th>totalReviews</th>\n",
       "      <th>product_company</th>\n",
       "      <th>isPrimeEligible</th>\n",
       "      <th>Category</th>\n",
       "      <th>rating_category</th>\n",
       "      <th>category_encoded</th>\n",
       "    </tr>\n",
       "  </thead>\n",
       "  <tbody>\n",
       "    <tr>\n",
       "      <th>0</th>\n",
       "      <td>yopela 14 pack natural lip balm in bulk with ...</td>\n",
       "      <td>5.59</td>\n",
       "      <td>10.90</td>\n",
       "      <td>4.3</td>\n",
       "      <td>311.0</td>\n",
       "      <td>yopela</td>\n",
       "      <td>1.0</td>\n",
       "      <td>lipbalm</td>\n",
       "      <td>High</td>\n",
       "      <td>11</td>\n",
       "    </tr>\n",
       "    <tr>\n",
       "      <th>1</th>\n",
       "      <td>#ootd vegan hydrating korean face mask sheet p...</td>\n",
       "      <td>33.90</td>\n",
       "      <td>39.21</td>\n",
       "      <td>4.5</td>\n",
       "      <td>381.0</td>\n",
       "      <td>#ootd</td>\n",
       "      <td>1.0</td>\n",
       "      <td>sheet mask</td>\n",
       "      <td>High</td>\n",
       "      <td>14</td>\n",
       "    </tr>\n",
       "    <tr>\n",
       "      <th>2</th>\n",
       "      <td>beauty of joseon centella asiatica calming mas...</td>\n",
       "      <td>15.52</td>\n",
       "      <td>25.00</td>\n",
       "      <td>4.5</td>\n",
       "      <td>135.0</td>\n",
       "      <td>beauty of joseon</td>\n",
       "      <td>1.0</td>\n",
       "      <td>sheet mask</td>\n",
       "      <td>High</td>\n",
       "      <td>14</td>\n",
       "    </tr>\n",
       "    <tr>\n",
       "      <th>3</th>\n",
       "      <td>beauty of joseon radiance cleansing balm (100m...</td>\n",
       "      <td>17.10</td>\n",
       "      <td>19.00</td>\n",
       "      <td>4.6</td>\n",
       "      <td>302.0</td>\n",
       "      <td>beauty of joseon</td>\n",
       "      <td>1.0</td>\n",
       "      <td>cleansing oil</td>\n",
       "      <td>VeryHigh</td>\n",
       "      <td>4</td>\n",
       "    </tr>\n",
       "    <tr>\n",
       "      <th>4</th>\n",
       "      <td>cosrx salicylic acid daily gentle cleanser 150...</td>\n",
       "      <td>13.99</td>\n",
       "      <td>19.30</td>\n",
       "      <td>4.6</td>\n",
       "      <td>1581.0</td>\n",
       "      <td>cosrx</td>\n",
       "      <td>1.0</td>\n",
       "      <td>cleanser</td>\n",
       "      <td>VeryHigh</td>\n",
       "      <td>2</td>\n",
       "    </tr>\n",
       "    <tr>\n",
       "      <th>...</th>\n",
       "      <td>...</td>\n",
       "      <td>...</td>\n",
       "      <td>...</td>\n",
       "      <td>...</td>\n",
       "      <td>...</td>\n",
       "      <td>...</td>\n",
       "      <td>...</td>\n",
       "      <td>...</td>\n",
       "      <td>...</td>\n",
       "      <td>...</td>\n",
       "    </tr>\n",
       "    <tr>\n",
       "      <th>1233</th>\n",
       "      <td>zeoclay face mask - 100% organic spa quality -...</td>\n",
       "      <td>38.24</td>\n",
       "      <td>44.99</td>\n",
       "      <td>5.0</td>\n",
       "      <td>20.0</td>\n",
       "      <td>zeoclay</td>\n",
       "      <td>1.0</td>\n",
       "      <td>clay mask</td>\n",
       "      <td>VeryHigh</td>\n",
       "      <td>1</td>\n",
       "    </tr>\n",
       "    <tr>\n",
       "      <th>1234</th>\n",
       "      <td>zo skin health gentle cleanser 6.7 fl. oz.</td>\n",
       "      <td>36.90</td>\n",
       "      <td>40.97</td>\n",
       "      <td>4.7</td>\n",
       "      <td>606.0</td>\n",
       "      <td>zo skin health</td>\n",
       "      <td>1.0</td>\n",
       "      <td>cleanser</td>\n",
       "      <td>VeryHigh</td>\n",
       "      <td>2</td>\n",
       "    </tr>\n",
       "    <tr>\n",
       "      <th>1235</th>\n",
       "      <td>zum face sugar facial scrub - lemongrass - 4 oz</td>\n",
       "      <td>15.25</td>\n",
       "      <td>20.56</td>\n",
       "      <td>4.5</td>\n",
       "      <td>166.0</td>\n",
       "      <td>zum</td>\n",
       "      <td>1.0</td>\n",
       "      <td>face scrub</td>\n",
       "      <td>High</td>\n",
       "      <td>10</td>\n",
       "    </tr>\n",
       "    <tr>\n",
       "      <th>1236</th>\n",
       "      <td>𝗧𝗢𝗣 𝟮𝟬𝟮𝟯* hyaluronic acid face serum - 2.5% pu...</td>\n",
       "      <td>9.99</td>\n",
       "      <td>11.99</td>\n",
       "      <td>4.3</td>\n",
       "      <td>24024.0</td>\n",
       "      <td>eclat skincare</td>\n",
       "      <td>1.0</td>\n",
       "      <td>serum</td>\n",
       "      <td>High</td>\n",
       "      <td>13</td>\n",
       "    </tr>\n",
       "    <tr>\n",
       "      <th>1237</th>\n",
       "      <td>𝗪𝗜𝗡𝗡𝗘𝗥 𝟮𝟬𝟮𝟯* turmeric face mask, aztec clay ma...</td>\n",
       "      <td>8.99</td>\n",
       "      <td>14.30</td>\n",
       "      <td>4.5</td>\n",
       "      <td>198.0</td>\n",
       "      <td>betty rose's botanicals</td>\n",
       "      <td>1.0</td>\n",
       "      <td>clay mask</td>\n",
       "      <td>High</td>\n",
       "      <td>1</td>\n",
       "    </tr>\n",
       "  </tbody>\n",
       "</table>\n",
       "<p>1205 rows × 10 columns</p>\n",
       "</div>"
      ],
      "text/plain": [
       "                                           product_name  price  listPrice  \\\n",
       "0      yopela 14 pack natural lip balm in bulk with ...   5.59      10.90   \n",
       "1     #ootd vegan hydrating korean face mask sheet p...  33.90      39.21   \n",
       "2     beauty of joseon centella asiatica calming mas...  15.52      25.00   \n",
       "3     beauty of joseon radiance cleansing balm (100m...  17.10      19.00   \n",
       "4     cosrx salicylic acid daily gentle cleanser 150...  13.99      19.30   \n",
       "...                                                 ...    ...        ...   \n",
       "1233  zeoclay face mask - 100% organic spa quality -...  38.24      44.99   \n",
       "1234         zo skin health gentle cleanser 6.7 fl. oz.  36.90      40.97   \n",
       "1235    zum face sugar facial scrub - lemongrass - 4 oz  15.25      20.56   \n",
       "1236  𝗧𝗢𝗣 𝟮𝟬𝟮𝟯* hyaluronic acid face serum - 2.5% pu...   9.99      11.99   \n",
       "1237  𝗪𝗜𝗡𝗡𝗘𝗥 𝟮𝟬𝟮𝟯* turmeric face mask, aztec clay ma...   8.99      14.30   \n",
       "\n",
       "      rating  totalReviews          product_company  isPrimeEligible  \\\n",
       "0        4.3         311.0                   yopela              1.0   \n",
       "1        4.5         381.0                    #ootd              1.0   \n",
       "2        4.5         135.0         beauty of joseon              1.0   \n",
       "3        4.6         302.0         beauty of joseon              1.0   \n",
       "4        4.6        1581.0                    cosrx              1.0   \n",
       "...      ...           ...                      ...              ...   \n",
       "1233     5.0          20.0                  zeoclay              1.0   \n",
       "1234     4.7         606.0           zo skin health              1.0   \n",
       "1235     4.5         166.0                      zum              1.0   \n",
       "1236     4.3       24024.0           eclat skincare              1.0   \n",
       "1237     4.5         198.0  betty rose's botanicals              1.0   \n",
       "\n",
       "           Category rating_category  category_encoded  \n",
       "0           lipbalm            High                11  \n",
       "1        sheet mask            High                14  \n",
       "2        sheet mask            High                14  \n",
       "3     cleansing oil        VeryHigh                 4  \n",
       "4          cleanser        VeryHigh                 2  \n",
       "...             ...             ...               ...  \n",
       "1233      clay mask        VeryHigh                 1  \n",
       "1234       cleanser        VeryHigh                 2  \n",
       "1235     face scrub            High                10  \n",
       "1236          serum            High                13  \n",
       "1237      clay mask            High                 1  \n",
       "\n",
       "[1205 rows x 10 columns]"
      ]
     },
     "execution_count": 85,
     "metadata": {},
     "output_type": "execute_result"
    }
   ],
   "source": [
    "product_dfv2"
   ]
  },
  {
   "cell_type": "code",
   "execution_count": 86,
   "id": "2470c3db",
   "metadata": {},
   "outputs": [],
   "source": [
    "#product_dfv2.to_csv('Cleaned_DT_Input.csv', index=False)"
   ]
  },
  {
   "cell_type": "code",
   "execution_count": 87,
   "id": "175cdb8c",
   "metadata": {},
   "outputs": [
    {
     "name": "stdout",
     "output_type": "stream",
     "text": [
      "Counts of product_name categories:\n",
      "clay mask         99\n",
      "eye cream         98\n",
      "sheet mask        97\n",
      "sunscreen         97\n",
      "moisturizer       97\n",
      "serum             96\n",
      "lipbalm           94\n",
      "cleanser          94\n",
      "cleansing balm    81\n",
      "body scrub        73\n",
      "exfoliator        67\n",
      "cleansing oil     66\n",
      "eye mask          56\n",
      "face scrub        52\n",
      "essence           27\n",
      "face mask         11\n",
      "Name: Category, dtype: int64\n"
     ]
    }
   ],
   "source": [
    "import pandas as pd\n",
    "\n",
    "# Assuming 'product_dfv2' is your DataFrame\n",
    "df1 = product_dfv2[['Category', 'listPrice', 'price']]\n",
    "\n",
    "# Count the number of values in each category of 'product_name'\n",
    "product_name_counts = df1['Category'].value_counts()\n",
    "\n",
    "print(\"Counts of product_name categories:\")\n",
    "print(product_name_counts)\n"
   ]
  },
  {
   "cell_type": "code",
   "execution_count": 88,
   "id": "10bb2805",
   "metadata": {},
   "outputs": [
    {
     "data": {
      "text/html": [
       "<div>\n",
       "<style scoped>\n",
       "    .dataframe tbody tr th:only-of-type {\n",
       "        vertical-align: middle;\n",
       "    }\n",
       "\n",
       "    .dataframe tbody tr th {\n",
       "        vertical-align: top;\n",
       "    }\n",
       "\n",
       "    .dataframe thead th {\n",
       "        text-align: right;\n",
       "    }\n",
       "</style>\n",
       "<table border=\"1\" class=\"dataframe\">\n",
       "  <thead>\n",
       "    <tr style=\"text-align: right;\">\n",
       "      <th></th>\n",
       "      <th>Category</th>\n",
       "      <th>listPrice</th>\n",
       "      <th>price</th>\n",
       "    </tr>\n",
       "  </thead>\n",
       "  <tbody>\n",
       "    <tr>\n",
       "      <th>0</th>\n",
       "      <td>lipbalm</td>\n",
       "      <td>10.90</td>\n",
       "      <td>5.59</td>\n",
       "    </tr>\n",
       "    <tr>\n",
       "      <th>1</th>\n",
       "      <td>sheet mask</td>\n",
       "      <td>39.21</td>\n",
       "      <td>33.90</td>\n",
       "    </tr>\n",
       "    <tr>\n",
       "      <th>2</th>\n",
       "      <td>sheet mask</td>\n",
       "      <td>25.00</td>\n",
       "      <td>15.52</td>\n",
       "    </tr>\n",
       "    <tr>\n",
       "      <th>3</th>\n",
       "      <td>cleansing oil</td>\n",
       "      <td>19.00</td>\n",
       "      <td>17.10</td>\n",
       "    </tr>\n",
       "    <tr>\n",
       "      <th>4</th>\n",
       "      <td>cleanser</td>\n",
       "      <td>19.30</td>\n",
       "      <td>13.99</td>\n",
       "    </tr>\n",
       "    <tr>\n",
       "      <th>...</th>\n",
       "      <td>...</td>\n",
       "      <td>...</td>\n",
       "      <td>...</td>\n",
       "    </tr>\n",
       "    <tr>\n",
       "      <th>1233</th>\n",
       "      <td>clay mask</td>\n",
       "      <td>44.99</td>\n",
       "      <td>38.24</td>\n",
       "    </tr>\n",
       "    <tr>\n",
       "      <th>1234</th>\n",
       "      <td>cleanser</td>\n",
       "      <td>40.97</td>\n",
       "      <td>36.90</td>\n",
       "    </tr>\n",
       "    <tr>\n",
       "      <th>1235</th>\n",
       "      <td>face scrub</td>\n",
       "      <td>20.56</td>\n",
       "      <td>15.25</td>\n",
       "    </tr>\n",
       "    <tr>\n",
       "      <th>1236</th>\n",
       "      <td>serum</td>\n",
       "      <td>11.99</td>\n",
       "      <td>9.99</td>\n",
       "    </tr>\n",
       "    <tr>\n",
       "      <th>1237</th>\n",
       "      <td>clay mask</td>\n",
       "      <td>14.30</td>\n",
       "      <td>8.99</td>\n",
       "    </tr>\n",
       "  </tbody>\n",
       "</table>\n",
       "<p>1205 rows × 3 columns</p>\n",
       "</div>"
      ],
      "text/plain": [
       "           Category  listPrice  price\n",
       "0           lipbalm      10.90   5.59\n",
       "1        sheet mask      39.21  33.90\n",
       "2        sheet mask      25.00  15.52\n",
       "3     cleansing oil      19.00  17.10\n",
       "4          cleanser      19.30  13.99\n",
       "...             ...        ...    ...\n",
       "1233      clay mask      44.99  38.24\n",
       "1234       cleanser      40.97  36.90\n",
       "1235     face scrub      20.56  15.25\n",
       "1236          serum      11.99   9.99\n",
       "1237      clay mask      14.30   8.99\n",
       "\n",
       "[1205 rows x 3 columns]"
      ]
     },
     "execution_count": 88,
     "metadata": {},
     "output_type": "execute_result"
    }
   ],
   "source": [
    "df1"
   ]
  },
  {
   "cell_type": "code",
   "execution_count": 113,
   "id": "b24961e4",
   "metadata": {},
   "outputs": [
    {
     "data": {
      "text/plain": [
       "Category     0\n",
       "listPrice    0\n",
       "price        0\n",
       "dtype: int64"
      ]
     },
     "execution_count": 113,
     "metadata": {},
     "output_type": "execute_result"
    }
   ],
   "source": [
    "df1.isna().sum()"
   ]
  },
  {
   "cell_type": "code",
   "execution_count": 89,
   "id": "e40675d3",
   "metadata": {},
   "outputs": [],
   "source": [
    "from sklearn.tree import DecisionTreeClassifier\n",
    "from sklearn.model_selection import train_test_split\n",
    "from sklearn.preprocessing import LabelEncoder\n",
    "from sklearn.metrics import accuracy_score, classification_report\n",
    "from sklearn.preprocessing import StandardScaler\n",
    "from sklearn.feature_extraction.text import TfidfVectorizer\n",
    "\n",
    "# Define the features and target variable\n",
    "X_text = df1['Category']  # Textual features\n",
    "y = pd.cut(df1['listPrice'], bins=[0, 10, 20, 30, 40, 50, float('inf')], labels=['0-10', '10-20', '20-30', '30-40', '40-50', '50+'])\n",
    "\n",
    "# Split the dataset into training and testing sets\n",
    "X_train, X_test, y_train, y_test = train_test_split(X, y, test_size=0.2, random_state=42)\n",
    "\n",
    "# Initialize the label encoder\n",
    "label_encoder = LabelEncoder()\n",
    "\n",
    "# Fit the label encoder on the training target variable and transform it\n",
    "y_train_encoded = label_encoder.fit_transform(y_train)\n",
    "\n",
    "# Apply the same label encoder to the test set\n",
    "y_test_encoded = label_encoder.transform(y_test)\n",
    "\n",
    "\n",
    "# Vectorize and normalize the text data\n",
    "tfidf_vectorizer = TfidfVectorizer()\n",
    "X_train_vectorized = tfidf_vectorizer.fit_transform(X_train)\n",
    "X_test_vectorized = tfidf_vectorizer.transform(X_test)\n",
    "\n",
    "# Scale the vectorized data\n",
    "scaler = StandardScaler(with_mean=False)\n",
    "X_train_scaled = scaler.fit_transform(X_train_vectorized)\n",
    "X_test_scaled = scaler.transform(X_test_vectorized)\n"
   ]
  },
  {
   "cell_type": "code",
   "execution_count": 90,
   "id": "72917e2b",
   "metadata": {},
   "outputs": [
    {
     "ename": "ValueError",
     "evalue": "Number of labels=964 does not match number of samples=3",
     "output_type": "error",
     "traceback": [
      "\u001b[1;31m---------------------------------------------------------------------------\u001b[0m",
      "\u001b[1;31mValueError\u001b[0m                                Traceback (most recent call last)",
      "\u001b[1;32m~\\AppData\\Local\\Temp\\ipykernel_17056\\2305160651.py\u001b[0m in \u001b[0;36m<module>\u001b[1;34m\u001b[0m\n\u001b[0;32m      1\u001b[0m \u001b[1;31m# Initialize and fit the Decision Tree classifier\u001b[0m\u001b[1;33m\u001b[0m\u001b[1;33m\u001b[0m\u001b[0m\n\u001b[0;32m      2\u001b[0m \u001b[0mdecision_tree_classifier\u001b[0m \u001b[1;33m=\u001b[0m \u001b[0mDecisionTreeClassifier\u001b[0m\u001b[1;33m(\u001b[0m\u001b[0mrandom_state\u001b[0m\u001b[1;33m=\u001b[0m\u001b[1;36m42\u001b[0m\u001b[1;33m)\u001b[0m\u001b[1;33m\u001b[0m\u001b[1;33m\u001b[0m\u001b[0m\n\u001b[1;32m----> 3\u001b[1;33m \u001b[0mdecision_tree_classifier\u001b[0m\u001b[1;33m.\u001b[0m\u001b[0mfit\u001b[0m\u001b[1;33m(\u001b[0m\u001b[0mX_train_scaled\u001b[0m\u001b[1;33m,\u001b[0m \u001b[0my_train_encoded\u001b[0m\u001b[1;33m)\u001b[0m\u001b[1;33m\u001b[0m\u001b[1;33m\u001b[0m\u001b[0m\n\u001b[0m\u001b[0;32m      4\u001b[0m \u001b[1;33m\u001b[0m\u001b[0m\n\u001b[0;32m      5\u001b[0m \u001b[1;31m# Make predictions\u001b[0m\u001b[1;33m\u001b[0m\u001b[1;33m\u001b[0m\u001b[0m\n",
      "\u001b[1;32m~\\anaconda3\\lib\\site-packages\\sklearn\\tree\\_classes.py\u001b[0m in \u001b[0;36mfit\u001b[1;34m(self, X, y, sample_weight, check_input, X_idx_sorted)\u001b[0m\n\u001b[0;32m    935\u001b[0m         \"\"\"\n\u001b[0;32m    936\u001b[0m \u001b[1;33m\u001b[0m\u001b[0m\n\u001b[1;32m--> 937\u001b[1;33m         super().fit(\n\u001b[0m\u001b[0;32m    938\u001b[0m             \u001b[0mX\u001b[0m\u001b[1;33m,\u001b[0m\u001b[1;33m\u001b[0m\u001b[1;33m\u001b[0m\u001b[0m\n\u001b[0;32m    939\u001b[0m             \u001b[0my\u001b[0m\u001b[1;33m,\u001b[0m\u001b[1;33m\u001b[0m\u001b[1;33m\u001b[0m\u001b[0m\n",
      "\u001b[1;32m~\\anaconda3\\lib\\site-packages\\sklearn\\tree\\_classes.py\u001b[0m in \u001b[0;36mfit\u001b[1;34m(self, X, y, sample_weight, check_input, X_idx_sorted)\u001b[0m\n\u001b[0;32m    297\u001b[0m \u001b[1;33m\u001b[0m\u001b[0m\n\u001b[0;32m    298\u001b[0m         \u001b[1;32mif\u001b[0m \u001b[0mlen\u001b[0m\u001b[1;33m(\u001b[0m\u001b[0my\u001b[0m\u001b[1;33m)\u001b[0m \u001b[1;33m!=\u001b[0m \u001b[0mn_samples\u001b[0m\u001b[1;33m:\u001b[0m\u001b[1;33m\u001b[0m\u001b[1;33m\u001b[0m\u001b[0m\n\u001b[1;32m--> 299\u001b[1;33m             raise ValueError(\n\u001b[0m\u001b[0;32m    300\u001b[0m                 \u001b[1;34m\"Number of labels=%d does not match number of samples=%d\"\u001b[0m\u001b[1;33m\u001b[0m\u001b[1;33m\u001b[0m\u001b[0m\n\u001b[0;32m    301\u001b[0m                 \u001b[1;33m%\u001b[0m \u001b[1;33m(\u001b[0m\u001b[0mlen\u001b[0m\u001b[1;33m(\u001b[0m\u001b[0my\u001b[0m\u001b[1;33m)\u001b[0m\u001b[1;33m,\u001b[0m \u001b[0mn_samples\u001b[0m\u001b[1;33m)\u001b[0m\u001b[1;33m\u001b[0m\u001b[1;33m\u001b[0m\u001b[0m\n",
      "\u001b[1;31mValueError\u001b[0m: Number of labels=964 does not match number of samples=3"
     ]
    }
   ],
   "source": [
    "# Initialize and fit the Decision Tree classifier\n",
    "decision_tree_classifier = DecisionTreeClassifier(random_state=42)\n",
    "decision_tree_classifier.fit(X_train_scaled, y_train_encoded)\n",
    "\n",
    "# Make predictions\n",
    "y_pred = decision_tree_classifier.predict(X_test_scaled)\n",
    "\n",
    "# Evaluate the model\n",
    "accuracy = accuracy_score(label_encoder.transform(y_test), y_pred)\n",
    "print(\"Accuracy:\", accuracy)\n",
    "\n",
    "# Generate a classification report\n",
    "class_report = classification_report(label_encoder.transform(y_test), y_pred, target_names=label_encoder.classes_)\n",
    "print(\"Classification Report:\\n\", class_report)"
   ]
  },
  {
   "cell_type": "code",
   "execution_count": 91,
   "id": "775eaf36",
   "metadata": {},
   "outputs": [
    {
     "ename": "ValueError",
     "evalue": "Found input variables with inconsistent numbers of samples: [3, 964]",
     "output_type": "error",
     "traceback": [
      "\u001b[1;31m---------------------------------------------------------------------------\u001b[0m",
      "\u001b[1;31mValueError\u001b[0m                                Traceback (most recent call last)",
      "\u001b[1;32m~\\AppData\\Local\\Temp\\ipykernel_17056\\999740988.py\u001b[0m in \u001b[0;36m<module>\u001b[1;34m\u001b[0m\n\u001b[0;32m     17\u001b[0m \u001b[1;33m\u001b[0m\u001b[0m\n\u001b[0;32m     18\u001b[0m \u001b[1;31m# Fit the model to the training data\u001b[0m\u001b[1;33m\u001b[0m\u001b[1;33m\u001b[0m\u001b[0m\n\u001b[1;32m---> 19\u001b[1;33m \u001b[0mgrid_search\u001b[0m\u001b[1;33m.\u001b[0m\u001b[0mfit\u001b[0m\u001b[1;33m(\u001b[0m\u001b[0mX_train_scaled\u001b[0m\u001b[1;33m,\u001b[0m \u001b[0my_train_encoded\u001b[0m\u001b[1;33m)\u001b[0m\u001b[1;33m\u001b[0m\u001b[1;33m\u001b[0m\u001b[0m\n\u001b[0m\u001b[0;32m     20\u001b[0m \u001b[1;33m\u001b[0m\u001b[0m\n\u001b[0;32m     21\u001b[0m \u001b[1;31m# Get the best hyperparameters\u001b[0m\u001b[1;33m\u001b[0m\u001b[1;33m\u001b[0m\u001b[0m\n",
      "\u001b[1;32m~\\anaconda3\\lib\\site-packages\\sklearn\\model_selection\\_search.py\u001b[0m in \u001b[0;36mfit\u001b[1;34m(self, X, y, groups, **fit_params)\u001b[0m\n\u001b[0;32m    797\u001b[0m             \u001b[0mrefit_metric\u001b[0m \u001b[1;33m=\u001b[0m \u001b[0mself\u001b[0m\u001b[1;33m.\u001b[0m\u001b[0mrefit\u001b[0m\u001b[1;33m\u001b[0m\u001b[1;33m\u001b[0m\u001b[0m\n\u001b[0;32m    798\u001b[0m \u001b[1;33m\u001b[0m\u001b[0m\n\u001b[1;32m--> 799\u001b[1;33m         \u001b[0mX\u001b[0m\u001b[1;33m,\u001b[0m \u001b[0my\u001b[0m\u001b[1;33m,\u001b[0m \u001b[0mgroups\u001b[0m \u001b[1;33m=\u001b[0m \u001b[0mindexable\u001b[0m\u001b[1;33m(\u001b[0m\u001b[0mX\u001b[0m\u001b[1;33m,\u001b[0m \u001b[0my\u001b[0m\u001b[1;33m,\u001b[0m \u001b[0mgroups\u001b[0m\u001b[1;33m)\u001b[0m\u001b[1;33m\u001b[0m\u001b[1;33m\u001b[0m\u001b[0m\n\u001b[0m\u001b[0;32m    800\u001b[0m         \u001b[0mfit_params\u001b[0m \u001b[1;33m=\u001b[0m \u001b[0m_check_fit_params\u001b[0m\u001b[1;33m(\u001b[0m\u001b[0mX\u001b[0m\u001b[1;33m,\u001b[0m \u001b[0mfit_params\u001b[0m\u001b[1;33m)\u001b[0m\u001b[1;33m\u001b[0m\u001b[1;33m\u001b[0m\u001b[0m\n\u001b[0;32m    801\u001b[0m \u001b[1;33m\u001b[0m\u001b[0m\n",
      "\u001b[1;32m~\\anaconda3\\lib\\site-packages\\sklearn\\utils\\validation.py\u001b[0m in \u001b[0;36mindexable\u001b[1;34m(*iterables)\u001b[0m\n\u001b[0;32m    376\u001b[0m \u001b[1;33m\u001b[0m\u001b[0m\n\u001b[0;32m    377\u001b[0m     \u001b[0mresult\u001b[0m \u001b[1;33m=\u001b[0m \u001b[1;33m[\u001b[0m\u001b[0m_make_indexable\u001b[0m\u001b[1;33m(\u001b[0m\u001b[0mX\u001b[0m\u001b[1;33m)\u001b[0m \u001b[1;32mfor\u001b[0m \u001b[0mX\u001b[0m \u001b[1;32min\u001b[0m \u001b[0miterables\u001b[0m\u001b[1;33m]\u001b[0m\u001b[1;33m\u001b[0m\u001b[1;33m\u001b[0m\u001b[0m\n\u001b[1;32m--> 378\u001b[1;33m     \u001b[0mcheck_consistent_length\u001b[0m\u001b[1;33m(\u001b[0m\u001b[1;33m*\u001b[0m\u001b[0mresult\u001b[0m\u001b[1;33m)\u001b[0m\u001b[1;33m\u001b[0m\u001b[1;33m\u001b[0m\u001b[0m\n\u001b[0m\u001b[0;32m    379\u001b[0m     \u001b[1;32mreturn\u001b[0m \u001b[0mresult\u001b[0m\u001b[1;33m\u001b[0m\u001b[1;33m\u001b[0m\u001b[0m\n\u001b[0;32m    380\u001b[0m \u001b[1;33m\u001b[0m\u001b[0m\n",
      "\u001b[1;32m~\\anaconda3\\lib\\site-packages\\sklearn\\utils\\validation.py\u001b[0m in \u001b[0;36mcheck_consistent_length\u001b[1;34m(*arrays)\u001b[0m\n\u001b[0;32m    330\u001b[0m     \u001b[0muniques\u001b[0m \u001b[1;33m=\u001b[0m \u001b[0mnp\u001b[0m\u001b[1;33m.\u001b[0m\u001b[0munique\u001b[0m\u001b[1;33m(\u001b[0m\u001b[0mlengths\u001b[0m\u001b[1;33m)\u001b[0m\u001b[1;33m\u001b[0m\u001b[1;33m\u001b[0m\u001b[0m\n\u001b[0;32m    331\u001b[0m     \u001b[1;32mif\u001b[0m \u001b[0mlen\u001b[0m\u001b[1;33m(\u001b[0m\u001b[0muniques\u001b[0m\u001b[1;33m)\u001b[0m \u001b[1;33m>\u001b[0m \u001b[1;36m1\u001b[0m\u001b[1;33m:\u001b[0m\u001b[1;33m\u001b[0m\u001b[1;33m\u001b[0m\u001b[0m\n\u001b[1;32m--> 332\u001b[1;33m         raise ValueError(\n\u001b[0m\u001b[0;32m    333\u001b[0m             \u001b[1;34m\"Found input variables with inconsistent numbers of samples: %r\"\u001b[0m\u001b[1;33m\u001b[0m\u001b[1;33m\u001b[0m\u001b[0m\n\u001b[0;32m    334\u001b[0m             \u001b[1;33m%\u001b[0m \u001b[1;33m[\u001b[0m\u001b[0mint\u001b[0m\u001b[1;33m(\u001b[0m\u001b[0ml\u001b[0m\u001b[1;33m)\u001b[0m \u001b[1;32mfor\u001b[0m \u001b[0ml\u001b[0m \u001b[1;32min\u001b[0m \u001b[0mlengths\u001b[0m\u001b[1;33m]\u001b[0m\u001b[1;33m\u001b[0m\u001b[1;33m\u001b[0m\u001b[0m\n",
      "\u001b[1;31mValueError\u001b[0m: Found input variables with inconsistent numbers of samples: [3, 964]"
     ]
    }
   ],
   "source": [
    "from sklearn.tree import DecisionTreeClassifier\n",
    "from sklearn.model_selection import GridSearchCV\n",
    "\n",
    "# Define the hyperparameters and their possible values\n",
    "param_grid = {\n",
    "    'max_depth': [5, 10, 15, None],  # Experiment with different values\n",
    "    'min_samples_split': [2, 5, 10, 20]  # Experiment with different values\n",
    "}\n",
    "\n",
    "# Create the Decision Tree classifier\n",
    "decision_tree_classifier = DecisionTreeClassifier(random_state=42)\n",
    "\n",
    "# Create the Grid Search model\n",
    "grid_search = GridSearchCV(\n",
    "    decision_tree_classifier, param_grid, cv=5, scoring='accuracy'\n",
    ")\n",
    "\n",
    "# Fit the model to the training data\n",
    "grid_search.fit(X_train_scaled, y_train_encoded)\n",
    "\n",
    "# Get the best hyperparameters\n",
    "best_max_depth = grid_search.best_params_['max_depth']\n",
    "best_min_samples_split = grid_search.best_params_['min_samples_split']\n",
    "\n",
    "print(\"Best Max Depth:\", best_max_depth)\n",
    "print(\"Best Min Samples Split:\", best_min_samples_split)\n"
   ]
  },
  {
   "cell_type": "code",
   "execution_count": 92,
   "id": "cf3c023f",
   "metadata": {},
   "outputs": [
    {
     "ename": "ValueError",
     "evalue": "Number of labels=964 does not match number of samples=3",
     "output_type": "error",
     "traceback": [
      "\u001b[1;31m---------------------------------------------------------------------------\u001b[0m",
      "\u001b[1;31mValueError\u001b[0m                                Traceback (most recent call last)",
      "\u001b[1;32m~\\AppData\\Local\\Temp\\ipykernel_17056\\868836190.py\u001b[0m in \u001b[0;36m<module>\u001b[1;34m\u001b[0m\n\u001b[0;32m      7\u001b[0m \u001b[1;33m\u001b[0m\u001b[0m\n\u001b[0;32m      8\u001b[0m \u001b[1;31m# Fit the model\u001b[0m\u001b[1;33m\u001b[0m\u001b[1;33m\u001b[0m\u001b[0m\n\u001b[1;32m----> 9\u001b[1;33m \u001b[0mdecision_tree_classifier\u001b[0m\u001b[1;33m.\u001b[0m\u001b[0mfit\u001b[0m\u001b[1;33m(\u001b[0m\u001b[0mX_train_scaled\u001b[0m\u001b[1;33m,\u001b[0m \u001b[0my_train_encoded\u001b[0m\u001b[1;33m)\u001b[0m\u001b[1;33m\u001b[0m\u001b[1;33m\u001b[0m\u001b[0m\n\u001b[0m",
      "\u001b[1;32m~\\anaconda3\\lib\\site-packages\\sklearn\\tree\\_classes.py\u001b[0m in \u001b[0;36mfit\u001b[1;34m(self, X, y, sample_weight, check_input, X_idx_sorted)\u001b[0m\n\u001b[0;32m    935\u001b[0m         \"\"\"\n\u001b[0;32m    936\u001b[0m \u001b[1;33m\u001b[0m\u001b[0m\n\u001b[1;32m--> 937\u001b[1;33m         super().fit(\n\u001b[0m\u001b[0;32m    938\u001b[0m             \u001b[0mX\u001b[0m\u001b[1;33m,\u001b[0m\u001b[1;33m\u001b[0m\u001b[1;33m\u001b[0m\u001b[0m\n\u001b[0;32m    939\u001b[0m             \u001b[0my\u001b[0m\u001b[1;33m,\u001b[0m\u001b[1;33m\u001b[0m\u001b[1;33m\u001b[0m\u001b[0m\n",
      "\u001b[1;32m~\\anaconda3\\lib\\site-packages\\sklearn\\tree\\_classes.py\u001b[0m in \u001b[0;36mfit\u001b[1;34m(self, X, y, sample_weight, check_input, X_idx_sorted)\u001b[0m\n\u001b[0;32m    297\u001b[0m \u001b[1;33m\u001b[0m\u001b[0m\n\u001b[0;32m    298\u001b[0m         \u001b[1;32mif\u001b[0m \u001b[0mlen\u001b[0m\u001b[1;33m(\u001b[0m\u001b[0my\u001b[0m\u001b[1;33m)\u001b[0m \u001b[1;33m!=\u001b[0m \u001b[0mn_samples\u001b[0m\u001b[1;33m:\u001b[0m\u001b[1;33m\u001b[0m\u001b[1;33m\u001b[0m\u001b[0m\n\u001b[1;32m--> 299\u001b[1;33m             raise ValueError(\n\u001b[0m\u001b[0;32m    300\u001b[0m                 \u001b[1;34m\"Number of labels=%d does not match number of samples=%d\"\u001b[0m\u001b[1;33m\u001b[0m\u001b[1;33m\u001b[0m\u001b[0m\n\u001b[0;32m    301\u001b[0m                 \u001b[1;33m%\u001b[0m \u001b[1;33m(\u001b[0m\u001b[0mlen\u001b[0m\u001b[1;33m(\u001b[0m\u001b[0my\u001b[0m\u001b[1;33m)\u001b[0m\u001b[1;33m,\u001b[0m \u001b[0mn_samples\u001b[0m\u001b[1;33m)\u001b[0m\u001b[1;33m\u001b[0m\u001b[1;33m\u001b[0m\u001b[0m\n",
      "\u001b[1;31mValueError\u001b[0m: Number of labels=964 does not match number of samples=3"
     ]
    }
   ],
   "source": [
    "# Create a Decision Tree classifier with custom hyperparameters\n",
    "decision_tree_classifier = DecisionTreeClassifier(\n",
    "    random_state=42,\n",
    "    max_depth=10,  # Adjust this value\n",
    "    min_samples_split=5  # Adjust this value\n",
    ")\n",
    "\n",
    "# Fit the model\n",
    "decision_tree_classifier.fit(X_train_scaled, y_train_encoded)"
   ]
  },
  {
   "cell_type": "code",
   "execution_count": 93,
   "id": "428dc072",
   "metadata": {},
   "outputs": [
    {
     "name": "stdout",
     "output_type": "stream",
     "text": [
      "X_train shape: (964, 3)\n",
      "y_train_encoded shape: (964,)\n",
      "X_test shape: (241, 3)\n",
      "y_test_encoded shape: (241,)\n"
     ]
    }
   ],
   "source": [
    "print(\"X_train shape:\", X_train.shape)\n",
    "print(\"y_train_encoded shape:\", y_train_encoded.shape)\n",
    "print(\"X_test shape:\", X_test.shape)\n",
    "print(\"y_test_encoded shape:\", y_test_encoded.shape)\n"
   ]
  },
  {
   "cell_type": "code",
   "execution_count": 94,
   "id": "cecfa356",
   "metadata": {},
   "outputs": [
    {
     "name": "stdout",
     "output_type": "stream",
     "text": [
      "X_train shape: (964, 3)\n",
      "y_train_encoded shape: (964,)\n"
     ]
    }
   ],
   "source": [
    "print(\"X_train shape:\", X_train.shape)\n",
    "print(\"y_train_encoded shape:\", y_train_encoded.shape)"
   ]
  },
  {
   "cell_type": "code",
   "execution_count": 95,
   "id": "1bf54ab4",
   "metadata": {},
   "outputs": [
    {
     "name": "stdout",
     "output_type": "stream",
     "text": [
      "X_train shape: (964, 3)\n",
      "X_test shape: (241, 3)\n"
     ]
    }
   ],
   "source": [
    "print(\"X_train shape:\", X_train.shape)\n",
    "print(\"X_test shape:\", X_test.shape)"
   ]
  },
  {
   "cell_type": "code",
   "execution_count": 96,
   "id": "80c0515a",
   "metadata": {},
   "outputs": [
    {
     "name": "stdout",
     "output_type": "stream",
     "text": [
      "Number of samples in X_train: 964\n",
      "Number of samples in X_test: 241\n",
      "Number of samples in y_train_encoded: 241\n",
      "Number of samples in X_test: 241\n"
     ]
    }
   ],
   "source": [
    "print(\"Number of samples in X_train:\", len(X_train))\n",
    "print(\"Number of samples in X_test:\", len(X_test))\n",
    "print(\"Number of samples in y_train_encoded:\", len(X_test))\n",
    "print(\"Number of samples in X_test:\", len(X_test))"
   ]
  },
  {
   "cell_type": "code",
   "execution_count": 97,
   "id": "6c8ee07b",
   "metadata": {},
   "outputs": [
    {
     "name": "stdout",
     "output_type": "stream",
     "text": [
      "Unique labels: {0, 1, 2, 3, 4, 5}\n"
     ]
    }
   ],
   "source": [
    "unique_labels = set(y_train_encoded)\n",
    "print(\"Unique labels:\", unique_labels)"
   ]
  },
  {
   "cell_type": "code",
   "execution_count": 98,
   "id": "b625d46e",
   "metadata": {
    "scrolled": true
   },
   "outputs": [
    {
     "name": "stderr",
     "output_type": "stream",
     "text": [
      "C:\\Users\\vakit\\anaconda3\\lib\\site-packages\\sklearn\\model_selection\\_split.py:676: UserWarning: The least populated class in y has only 1 members, which is less than n_splits=5.\n",
      "  warnings.warn(\n"
     ]
    },
    {
     "name": "stdout",
     "output_type": "stream",
     "text": [
      "Best Max Depth: None\n",
      "Best Min Samples Split: 2\n",
      "Accuracy with best hyperparameters: 0.995850622406639\n"
     ]
    },
    {
     "ename": "ValueError",
     "evalue": "Number of classes, 4, does not match size of target_names, 5. Try specifying the labels parameter",
     "output_type": "error",
     "traceback": [
      "\u001b[1;31m---------------------------------------------------------------------------\u001b[0m",
      "\u001b[1;31mValueError\u001b[0m                                Traceback (most recent call last)",
      "\u001b[1;32m~\\AppData\\Local\\Temp\\ipykernel_17056\\1547837233.py\u001b[0m in \u001b[0;36m<module>\u001b[1;34m\u001b[0m\n\u001b[0;32m     60\u001b[0m \u001b[1;33m\u001b[0m\u001b[0m\n\u001b[0;32m     61\u001b[0m \u001b[1;31m# Generate a classification report\u001b[0m\u001b[1;33m\u001b[0m\u001b[1;33m\u001b[0m\u001b[0m\n\u001b[1;32m---> 62\u001b[1;33m \u001b[0mclass_report\u001b[0m \u001b[1;33m=\u001b[0m \u001b[0mclassification_report\u001b[0m\u001b[1;33m(\u001b[0m\u001b[0mlabel_encoder\u001b[0m\u001b[1;33m.\u001b[0m\u001b[0mtransform\u001b[0m\u001b[1;33m(\u001b[0m\u001b[0my_test\u001b[0m\u001b[1;33m)\u001b[0m\u001b[1;33m,\u001b[0m \u001b[0my_pred\u001b[0m\u001b[1;33m,\u001b[0m \u001b[0mtarget_names\u001b[0m\u001b[1;33m=\u001b[0m\u001b[0mtarget_names\u001b[0m\u001b[1;33m)\u001b[0m\u001b[1;33m\u001b[0m\u001b[1;33m\u001b[0m\u001b[0m\n\u001b[0m\u001b[0;32m     63\u001b[0m \u001b[0mprint\u001b[0m\u001b[1;33m(\u001b[0m\u001b[1;34m\"Classification Report:\\n\"\u001b[0m\u001b[1;33m,\u001b[0m \u001b[0mclass_report\u001b[0m\u001b[1;33m)\u001b[0m\u001b[1;33m\u001b[0m\u001b[1;33m\u001b[0m\u001b[0m\n\u001b[0;32m     64\u001b[0m \u001b[1;33m\u001b[0m\u001b[0m\n",
      "\u001b[1;32m~\\anaconda3\\lib\\site-packages\\sklearn\\metrics\\_classification.py\u001b[0m in \u001b[0;36mclassification_report\u001b[1;34m(y_true, y_pred, labels, target_names, sample_weight, digits, output_dict, zero_division)\u001b[0m\n\u001b[0;32m   2130\u001b[0m             )\n\u001b[0;32m   2131\u001b[0m         \u001b[1;32melse\u001b[0m\u001b[1;33m:\u001b[0m\u001b[1;33m\u001b[0m\u001b[1;33m\u001b[0m\u001b[0m\n\u001b[1;32m-> 2132\u001b[1;33m             raise ValueError(\n\u001b[0m\u001b[0;32m   2133\u001b[0m                 \u001b[1;34m\"Number of classes, {0}, does not match size of \"\u001b[0m\u001b[1;33m\u001b[0m\u001b[1;33m\u001b[0m\u001b[0m\n\u001b[0;32m   2134\u001b[0m                 \u001b[1;34m\"target_names, {1}. Try specifying the labels \"\u001b[0m\u001b[1;33m\u001b[0m\u001b[1;33m\u001b[0m\u001b[0m\n",
      "\u001b[1;31mValueError\u001b[0m: Number of classes, 4, does not match size of target_names, 5. Try specifying the labels parameter"
     ]
    }
   ],
   "source": [
    "from sklearn.tree import DecisionTreeClassifier\n",
    "from sklearn.model_selection import GridSearchCV\n",
    "from sklearn.model_selection import train_test_split\n",
    "from sklearn.preprocessing import LabelEncoder\n",
    "from sklearn.metrics import accuracy_score, classification_report, confusion_matrix\n",
    "import pandas as pd\n",
    "\n",
    "# Define the features and target variable\n",
    "X = product_dfv2[['rating', 'price', 'listPrice']]  # Add relevant features\n",
    "y = product_dfv2['rating_category']\n",
    "\n",
    "# Split the dataset into training and testing sets (adjust the test_size as needed)\n",
    "X_train, X_test, y_train, y_test = train_test_split(X, y, test_size=0.2, random_state=42)\n",
    "\n",
    "# Initialize the label encoder\n",
    "label_encoder = LabelEncoder()\n",
    "\n",
    "# Fit the label encoder on the training target variable and transform it\n",
    "y_train_encoded = label_encoder.fit_transform(y_train)\n",
    "\n",
    "# Define the hyperparameters and their possible values\n",
    "param_grid = {\n",
    "    'max_depth': [None, 10, 20, 30],  # You can add more values\n",
    "    'min_samples_split': [2, 5, 10, 20],  # You can add more values\n",
    "}\n",
    "\n",
    "# Create the Decision Tree classifier\n",
    "decision_tree_classifier = DecisionTreeClassifier()\n",
    "\n",
    "# Create the Grid Search model\n",
    "grid_search = GridSearchCV(\n",
    "    decision_tree_classifier, param_grid, cv=5, scoring='accuracy'\n",
    ")\n",
    "\n",
    "# Fit the model to the training data\n",
    "grid_search.fit(X_train, y_train_encoded)\n",
    "\n",
    "# Get the best hyperparameters\n",
    "best_max_depth = grid_search.best_params_['max_depth']\n",
    "best_min_samples_split = grid_search.best_params_['min_samples_split']\n",
    "\n",
    "print(\"Best Max Depth:\", best_max_depth)\n",
    "print(\"Best Min Samples Split:\", best_min_samples_split)\n",
    "\n",
    "# Train the Decision Tree classifier with the best hyperparameters\n",
    "best_decision_tree_classifier = DecisionTreeClassifier(\n",
    "    max_depth=best_max_depth, min_samples_split=best_min_samples_split\n",
    ")\n",
    "best_decision_tree_classifier.fit(X_train, y_train_encoded)\n",
    "\n",
    "# Make predictions\n",
    "y_pred = best_decision_tree_classifier.predict(X_test)\n",
    "\n",
    "# Evaluate the model\n",
    "accuracy = accuracy_score(label_encoder.transform(y_test), y_pred)\n",
    "print(\"Accuracy with best hyperparameters:\", accuracy)\n",
    "\n",
    "# Get unique class names for classification report\n",
    "target_names = label_encoder.classes_\n",
    "\n",
    "# Generate a classification report\n",
    "class_report = classification_report(label_encoder.transform(y_test), y_pred, target_names=target_names)\n",
    "print(\"Classification Report:\\n\", class_report)\n",
    "\n",
    "# Generate a confusion matrix\n",
    "conf_matrix = confusion_matrix(label_encoder.transform(y_test), y_pred)\n",
    "print(\"Confusion Matrix:\\n\", conf_matrix)"
   ]
  },
  {
   "cell_type": "code",
   "execution_count": 122,
   "id": "677a33be",
   "metadata": {},
   "outputs": [
    {
     "name": "stderr",
     "output_type": "stream",
     "text": [
      "C:\\Users\\vakit\\AppData\\Local\\Temp\\ipykernel_17056\\4114831888.py:9: SettingWithCopyWarning: \n",
      "A value is trying to be set on a copy of a slice from a DataFrame\n",
      "\n",
      "See the caveats in the documentation: https://pandas.pydata.org/pandas-docs/stable/user_guide/indexing.html#returning-a-view-versus-a-copy\n",
      "  X.dropna(inplace=True)\n"
     ]
    },
    {
     "ename": "ValueError",
     "evalue": "Mix of label input types (string and number)",
     "output_type": "error",
     "traceback": [
      "\u001b[1;31m---------------------------------------------------------------------------\u001b[0m",
      "\u001b[1;31mValueError\u001b[0m                                Traceback (most recent call last)",
      "\u001b[1;32m~\\AppData\\Local\\Temp\\ipykernel_17056\\4114831888.py\u001b[0m in \u001b[0;36m<module>\u001b[1;34m\u001b[0m\n\u001b[0;32m     29\u001b[0m \u001b[1;33m\u001b[0m\u001b[0m\n\u001b[0;32m     30\u001b[0m \u001b[1;31m# Compute the confusion matrix\u001b[0m\u001b[1;33m\u001b[0m\u001b[1;33m\u001b[0m\u001b[0m\n\u001b[1;32m---> 31\u001b[1;33m \u001b[0mcnf_matrix2\u001b[0m \u001b[1;33m=\u001b[0m \u001b[0mconfusion_matrix\u001b[0m\u001b[1;33m(\u001b[0m\u001b[0my_test\u001b[0m\u001b[1;33m,\u001b[0m \u001b[0mypred\u001b[0m\u001b[1;33m)\u001b[0m\u001b[1;33m\u001b[0m\u001b[1;33m\u001b[0m\u001b[0m\n\u001b[0m\u001b[0;32m     32\u001b[0m \u001b[0mprint\u001b[0m\u001b[1;33m(\u001b[0m\u001b[1;34m\"\\nThe confusion matrix is:\"\u001b[0m\u001b[1;33m)\u001b[0m\u001b[1;33m\u001b[0m\u001b[1;33m\u001b[0m\u001b[0m\n\u001b[0;32m     33\u001b[0m \u001b[0mprint\u001b[0m\u001b[1;33m(\u001b[0m\u001b[0mcnf_matrix2\u001b[0m\u001b[1;33m)\u001b[0m\u001b[1;33m\u001b[0m\u001b[1;33m\u001b[0m\u001b[0m\n",
      "\u001b[1;32m~\\anaconda3\\lib\\site-packages\\sklearn\\metrics\\_classification.py\u001b[0m in \u001b[0;36mconfusion_matrix\u001b[1;34m(y_true, y_pred, labels, sample_weight, normalize)\u001b[0m\n\u001b[0;32m    310\u001b[0m \u001b[1;33m\u001b[0m\u001b[0m\n\u001b[0;32m    311\u001b[0m     \u001b[1;32mif\u001b[0m \u001b[0mlabels\u001b[0m \u001b[1;32mis\u001b[0m \u001b[1;32mNone\u001b[0m\u001b[1;33m:\u001b[0m\u001b[1;33m\u001b[0m\u001b[1;33m\u001b[0m\u001b[0m\n\u001b[1;32m--> 312\u001b[1;33m         \u001b[0mlabels\u001b[0m \u001b[1;33m=\u001b[0m \u001b[0munique_labels\u001b[0m\u001b[1;33m(\u001b[0m\u001b[0my_true\u001b[0m\u001b[1;33m,\u001b[0m \u001b[0my_pred\u001b[0m\u001b[1;33m)\u001b[0m\u001b[1;33m\u001b[0m\u001b[1;33m\u001b[0m\u001b[0m\n\u001b[0m\u001b[0;32m    313\u001b[0m     \u001b[1;32melse\u001b[0m\u001b[1;33m:\u001b[0m\u001b[1;33m\u001b[0m\u001b[1;33m\u001b[0m\u001b[0m\n\u001b[0;32m    314\u001b[0m         \u001b[0mlabels\u001b[0m \u001b[1;33m=\u001b[0m \u001b[0mnp\u001b[0m\u001b[1;33m.\u001b[0m\u001b[0masarray\u001b[0m\u001b[1;33m(\u001b[0m\u001b[0mlabels\u001b[0m\u001b[1;33m)\u001b[0m\u001b[1;33m\u001b[0m\u001b[1;33m\u001b[0m\u001b[0m\n",
      "\u001b[1;32m~\\anaconda3\\lib\\site-packages\\sklearn\\utils\\multiclass.py\u001b[0m in \u001b[0;36munique_labels\u001b[1;34m(*ys)\u001b[0m\n\u001b[0;32m    105\u001b[0m     \u001b[1;31m# Check that we don't mix string type with number type\u001b[0m\u001b[1;33m\u001b[0m\u001b[1;33m\u001b[0m\u001b[0m\n\u001b[0;32m    106\u001b[0m     \u001b[1;32mif\u001b[0m \u001b[0mlen\u001b[0m\u001b[1;33m(\u001b[0m\u001b[0mset\u001b[0m\u001b[1;33m(\u001b[0m\u001b[0misinstance\u001b[0m\u001b[1;33m(\u001b[0m\u001b[0mlabel\u001b[0m\u001b[1;33m,\u001b[0m \u001b[0mstr\u001b[0m\u001b[1;33m)\u001b[0m \u001b[1;32mfor\u001b[0m \u001b[0mlabel\u001b[0m \u001b[1;32min\u001b[0m \u001b[0mys_labels\u001b[0m\u001b[1;33m)\u001b[0m\u001b[1;33m)\u001b[0m \u001b[1;33m>\u001b[0m \u001b[1;36m1\u001b[0m\u001b[1;33m:\u001b[0m\u001b[1;33m\u001b[0m\u001b[1;33m\u001b[0m\u001b[0m\n\u001b[1;32m--> 107\u001b[1;33m         \u001b[1;32mraise\u001b[0m \u001b[0mValueError\u001b[0m\u001b[1;33m(\u001b[0m\u001b[1;34m\"Mix of label input types (string and number)\"\u001b[0m\u001b[1;33m)\u001b[0m\u001b[1;33m\u001b[0m\u001b[1;33m\u001b[0m\u001b[0m\n\u001b[0m\u001b[0;32m    108\u001b[0m \u001b[1;33m\u001b[0m\u001b[0m\n\u001b[0;32m    109\u001b[0m     \u001b[1;32mreturn\u001b[0m \u001b[0mnp\u001b[0m\u001b[1;33m.\u001b[0m\u001b[0marray\u001b[0m\u001b[1;33m(\u001b[0m\u001b[0msorted\u001b[0m\u001b[1;33m(\u001b[0m\u001b[0mys_labels\u001b[0m\u001b[1;33m)\u001b[0m\u001b[1;33m)\u001b[0m\u001b[1;33m\u001b[0m\u001b[1;33m\u001b[0m\u001b[0m\n",
      "\u001b[1;31mValueError\u001b[0m: Mix of label input types (string and number)"
     ]
    }
   ],
   "source": [
    "from sklearn.tree import DecisionTreeClassifier\n",
    "from sklearn.metrics import confusion_matrix, classification_report\n",
    "from sklearn.preprocessing import LabelEncoder\n",
    "from sklearn.tree import plot_tree\n",
    "import seaborn as sns\n",
    "import matplotlib.pyplot as plt\n",
    "\n",
    "# Handle missing values in X and y\n",
    "X.dropna(inplace=True)\n",
    "y = y.loc[X.index]\n",
    "\n",
    "# Split the dataset into training and testing sets\n",
    "X_train, X_test, y_train, y_test = train_test_split(X, y, test_size=0.2, random_state=42)\n",
    "\n",
    "from sklearn.preprocessing import LabelEncoder\n",
    "\n",
    "# Initialize the label encoder and fit it on the training target variable\n",
    "label_encoder = LabelEncoder()\n",
    "label_encoder.fit(y_train)\n",
    "\n",
    "# Transform the test set labels\n",
    "y_test_encoded = label_encoder.transform(y_test)\n",
    "\n",
    "# Compute the confusion matrix\n",
    "cnf_matrix2 = confusion_matrix(y_test_encoded, ypred)\n",
    "\n",
    "# Make predictions\n",
    "ypred = DT.predict(X_test)\n",
    "\n",
    "# Compute the confusion matrix\n",
    "cnf_matrix2 = confusion_matrix(y_test, ypred)\n",
    "print(\"\\nThe confusion matrix is:\")\n",
    "print(cnf_matrix2)\n",
    "ax = sns.heatmap(cnf_matrix2, annot=True, fmt='d' )\n",
    "ax.xaxis.set_ticklabels(label_encoder.classes_)\n",
    "ax.yaxis.set_ticklabels(label_encoder.classes_)\n",
    "\n",
    "# Print the classification report\n",
    "print(classification_report(y_test, ypred))\n",
    "\n",
    "# Visualize the Decision Tree\n",
    "plot_tree(DT, feature_names=words, class_names=label_encoder.classes_, filled=True)\n",
    "plt.savefig(path+\"/DT1.pdf\")\n"
   ]
  },
  {
   "cell_type": "code",
   "execution_count": 105,
   "id": "71fd2df2",
   "metadata": {},
   "outputs": [
    {
     "data": {
      "image/png": "[encoded data removed]",
      "text/plain": [
       "<Figure size 640x480 with 2 Axes>"
      ]
     },
     "metadata": {},
     "output_type": "display_data"
    }
   ],
   "source": [
    "# Apply the label encoder to the test set's true labels\n",
    "y_test_encoded = label_encoder.transform(y_test)\n",
    "\n",
    "\n",
    "from sklearn.metrics import confusion_matrix\n",
    "import seaborn as sns\n",
    "import matplotlib.pyplot as plt\n",
    "\n",
    "# Assuming you have converted y_test to numerical format\n",
    "cm = confusion_matrix(y_test_encoded, y_pred)\n",
    "\n",
    "# Define class names if needed\n",
    "class_names = label_encoder.classes_\n",
    "\n",
    "# Create a confusion matrix heatmap\n",
    "sns.heatmap(cm, annot=True, fmt='d', xticklabels=class_names, yticklabels=class_names)\n",
    "plt.xlabel(\"Predicted\")\n",
    "plt.ylabel(\"True\")\n",
    "plt.show()\n"
   ]
  },
  {
   "cell_type": "code",
   "execution_count": 109,
   "id": "170254ea",
   "metadata": {},
   "outputs": [
    {
     "name": "stdout",
     "output_type": "stream",
     "text": [
      "Precision: 0.9972337482710926\n",
      "Recall: 0.995850622406639\n",
      "F1-score: 0.9960769520935496\n"
     ]
    }
   ],
   "source": [
    "from sklearn.metrics import precision_score, recall_score, f1_score\n",
    "\n",
    "# Assuming you have converted y_test to numerical format\n",
    "precision = precision_score(y_test_encoded, y_pred, average='weighted')\n",
    "recall = recall_score(y_test_encoded, y_pred, average='weighted')\n",
    "f1 = f1_score(y_test_encoded, y_pred, average='weighted')\n",
    "\n",
    "print(\"Precision:\", precision)\n",
    "print(\"Recall:\", recall)\n",
    "print(\"F1-score:\", f1)\n"
   ]
  },
  {
   "cell_type": "code",
   "execution_count": 131,
   "id": "d62bac00",
   "metadata": {},
   "outputs": [],
   "source": [
    "product_dfv3=product_dfv2.copy()"
   ]
  },
  {
   "cell_type": "code",
   "execution_count": 132,
   "id": "a54f3798",
   "metadata": {},
   "outputs": [
    {
     "data": {
      "text/html": [
       "<div>\n",
       "<style scoped>\n",
       "    .dataframe tbody tr th:only-of-type {\n",
       "        vertical-align: middle;\n",
       "    }\n",
       "\n",
       "    .dataframe tbody tr th {\n",
       "        vertical-align: top;\n",
       "    }\n",
       "\n",
       "    .dataframe thead th {\n",
       "        text-align: right;\n",
       "    }\n",
       "</style>\n",
       "<table border=\"1\" class=\"dataframe\">\n",
       "  <thead>\n",
       "    <tr style=\"text-align: right;\">\n",
       "      <th></th>\n",
       "      <th>price</th>\n",
       "      <th>totalReviews</th>\n",
       "      <th>isPrimeEligible</th>\n",
       "      <th>Category</th>\n",
       "      <th>rating_category</th>\n",
       "    </tr>\n",
       "  </thead>\n",
       "  <tbody>\n",
       "    <tr>\n",
       "      <th>0</th>\n",
       "      <td>5.59</td>\n",
       "      <td>311.0</td>\n",
       "      <td>1.0</td>\n",
       "      <td>lipbalm</td>\n",
       "      <td>High</td>\n",
       "    </tr>\n",
       "    <tr>\n",
       "      <th>1</th>\n",
       "      <td>33.90</td>\n",
       "      <td>381.0</td>\n",
       "      <td>1.0</td>\n",
       "      <td>sheet mask</td>\n",
       "      <td>High</td>\n",
       "    </tr>\n",
       "    <tr>\n",
       "      <th>2</th>\n",
       "      <td>15.52</td>\n",
       "      <td>135.0</td>\n",
       "      <td>1.0</td>\n",
       "      <td>sheet mask</td>\n",
       "      <td>High</td>\n",
       "    </tr>\n",
       "    <tr>\n",
       "      <th>3</th>\n",
       "      <td>17.10</td>\n",
       "      <td>302.0</td>\n",
       "      <td>1.0</td>\n",
       "      <td>cleansing oil</td>\n",
       "      <td>VeryHigh</td>\n",
       "    </tr>\n",
       "    <tr>\n",
       "      <th>4</th>\n",
       "      <td>13.99</td>\n",
       "      <td>1581.0</td>\n",
       "      <td>1.0</td>\n",
       "      <td>cleanser</td>\n",
       "      <td>VeryHigh</td>\n",
       "    </tr>\n",
       "    <tr>\n",
       "      <th>...</th>\n",
       "      <td>...</td>\n",
       "      <td>...</td>\n",
       "      <td>...</td>\n",
       "      <td>...</td>\n",
       "      <td>...</td>\n",
       "    </tr>\n",
       "    <tr>\n",
       "      <th>1233</th>\n",
       "      <td>38.24</td>\n",
       "      <td>20.0</td>\n",
       "      <td>1.0</td>\n",
       "      <td>clay mask</td>\n",
       "      <td>VeryHigh</td>\n",
       "    </tr>\n",
       "    <tr>\n",
       "      <th>1234</th>\n",
       "      <td>36.90</td>\n",
       "      <td>606.0</td>\n",
       "      <td>1.0</td>\n",
       "      <td>cleanser</td>\n",
       "      <td>VeryHigh</td>\n",
       "    </tr>\n",
       "    <tr>\n",
       "      <th>1235</th>\n",
       "      <td>15.25</td>\n",
       "      <td>166.0</td>\n",
       "      <td>1.0</td>\n",
       "      <td>face scrub</td>\n",
       "      <td>High</td>\n",
       "    </tr>\n",
       "    <tr>\n",
       "      <th>1236</th>\n",
       "      <td>9.99</td>\n",
       "      <td>24024.0</td>\n",
       "      <td>1.0</td>\n",
       "      <td>serum</td>\n",
       "      <td>High</td>\n",
       "    </tr>\n",
       "    <tr>\n",
       "      <th>1237</th>\n",
       "      <td>8.99</td>\n",
       "      <td>198.0</td>\n",
       "      <td>1.0</td>\n",
       "      <td>clay mask</td>\n",
       "      <td>High</td>\n",
       "    </tr>\n",
       "  </tbody>\n",
       "</table>\n",
       "<p>1205 rows × 5 columns</p>\n",
       "</div>"
      ],
      "text/plain": [
       "      price  totalReviews  isPrimeEligible       Category rating_category\n",
       "0      5.59         311.0              1.0        lipbalm            High\n",
       "1     33.90         381.0              1.0     sheet mask            High\n",
       "2     15.52         135.0              1.0     sheet mask            High\n",
       "3     17.10         302.0              1.0  cleansing oil        VeryHigh\n",
       "4     13.99        1581.0              1.0       cleanser        VeryHigh\n",
       "...     ...           ...              ...            ...             ...\n",
       "1233  38.24          20.0              1.0      clay mask        VeryHigh\n",
       "1234  36.90         606.0              1.0       cleanser        VeryHigh\n",
       "1235  15.25         166.0              1.0     face scrub            High\n",
       "1236   9.99       24024.0              1.0          serum            High\n",
       "1237   8.99         198.0              1.0      clay mask            High\n",
       "\n",
       "[1205 rows x 5 columns]"
      ]
     },
     "execution_count": 132,
     "metadata": {},
     "output_type": "execute_result"
    }
   ],
   "source": [
    "product_dfv3=product_dfv3.drop(columns=['product_company','listPrice','product_name', 'rating', 'category_encoded'], axis=1)\n",
    "product_dfv3"
   ]
  },
  {
   "cell_type": "code",
   "execution_count": 133,
   "id": "2fd7bd72",
   "metadata": {},
   "outputs": [
    {
     "name": "stderr",
     "output_type": "stream",
     "text": [
      "C:\\Users\\vakit\\anaconda3\\lib\\site-packages\\sklearn\\utils\\deprecation.py:87: FutureWarning: Function get_feature_names is deprecated; get_feature_names is deprecated in 1.0 and will be removed in 1.2. Please use get_feature_names_out instead.\n",
      "  warnings.warn(msg, category=FutureWarning)\n"
     ]
    }
   ],
   "source": [
    "from sklearn.preprocessing import OneHotEncoder\n",
    "from sklearn.preprocessing import LabelEncoder\n",
    "encoder = OneHotEncoder(sparse=False)\n",
    "category_encoded = encoder.fit_transform(product_dfv3[[\"Category\"]])\n",
    "encoded_categories = pd.DataFrame(category_encoded, columns=encoder.get_feature_names([\"Category\"]))\n",
    "\n",
    "# Step 2: Combine the one-hot encoded categories with your original DataFrame\n",
    "product_df_encoded = pd.concat([product_dfv3, encoded_categories], axis=1)"
   ]
  },
  {
   "cell_type": "code",
   "execution_count": 136,
   "id": "47ddff9f",
   "metadata": {},
   "outputs": [],
   "source": [
    "product_df_encoded=product_df_encoded.drop(columns=['Category'])"
   ]
  },
  {
   "cell_type": "code",
   "execution_count": 155,
   "id": "6dcad88d",
   "metadata": {},
   "outputs": [
    {
     "data": {
      "text/plain": [
       "VeryHigh    571\n",
       "High        561\n",
       "Moderate     33\n",
       "Low           6\n",
       "VeryLow       0\n",
       "Name: rating_category, dtype: int64"
      ]
     },
     "execution_count": 155,
     "metadata": {},
     "output_type": "execute_result"
    }
   ],
   "source": [
    "product_df_encoded['rating_category'].value_counts()"
   ]
  },
  {
   "cell_type": "code",
   "execution_count": 150,
   "id": "70690df1",
   "metadata": {},
   "outputs": [],
   "source": [
    "product_df_encoded=product_df_encoded.dropna()"
   ]
  },
  {
   "cell_type": "code",
   "execution_count": 151,
   "id": "0cf9dc86",
   "metadata": {},
   "outputs": [],
   "source": [
    "from sklearn.tree import DecisionTreeClassifier\n",
    "from sklearn.model_selection import train_test_split\n",
    "from sklearn.metrics import accuracy_score, classification_report\n",
    "from sklearn.feature_extraction.text import TfidfVectorizer\n",
    "\n",
    "X = product_df_encoded.drop([\"rating_category\"], axis=1)\n",
    "y = product_df_encoded[\"rating_category\"]\n",
    "\n",
    "X_train, X_test, y_train, y_test = train_test_split(X, y, test_size=0.2, random_state=42)"
   ]
  },
  {
   "cell_type": "code",
   "execution_count": 171,
   "id": "ed4b6761",
   "metadata": {
    "scrolled": true
   },
   "outputs": [
    {
     "name": "stdout",
     "output_type": "stream",
     "text": [
      "\n",
      "The confusion matrix is:\n",
      "[[57  0  0 53]\n",
      " [ 1  0  0  0]\n",
      " [ 6  0  0  1]\n",
      " [57  0  0 60]]\n"
     ]
    },
    {
     "data": {
      "image/png": "[encoded data removed]",
      "text/plain": [
       "<Figure size 640x480 with 2 Axes>"
      ]
     },
     "metadata": {},
     "output_type": "display_data"
    },
    {
     "name": "stderr",
     "output_type": "stream",
     "text": [
      "C:\\Users\\vakit\\anaconda3\\lib\\site-packages\\sklearn\\metrics\\_classification.py:1318: UndefinedMetricWarning: Precision and F-score are ill-defined and being set to 0.0 in labels with no predicted samples. Use `zero_division` parameter to control this behavior.\n",
      "  _warn_prf(average, modifier, msg_start, len(result))\n",
      "C:\\Users\\vakit\\anaconda3\\lib\\site-packages\\sklearn\\metrics\\_classification.py:1318: UndefinedMetricWarning: Precision and F-score are ill-defined and being set to 0.0 in labels with no predicted samples. Use `zero_division` parameter to control this behavior.\n",
      "  _warn_prf(average, modifier, msg_start, len(result))\n",
      "C:\\Users\\vakit\\anaconda3\\lib\\site-packages\\sklearn\\metrics\\_classification.py:1318: UndefinedMetricWarning: Precision and F-score are ill-defined and being set to 0.0 in labels with no predicted samples. Use `zero_division` parameter to control this behavior.\n",
      "  _warn_prf(average, modifier, msg_start, len(result))\n"
     ]
    },
    {
     "name": "stdout",
     "output_type": "stream",
     "text": [
      "              precision    recall  f1-score   support\n",
      "\n",
      "        High       0.47      0.52      0.49       110\n",
      "         Low       0.00      0.00      0.00         1\n",
      "    Moderate       0.00      0.00      0.00         7\n",
      "    VeryHigh       0.53      0.51      0.52       117\n",
      "\n",
      "    accuracy                           0.50       235\n",
      "   macro avg       0.25      0.26      0.25       235\n",
      "weighted avg       0.48      0.50      0.49       235\n",
      "\n"
     ]
    },
    {
     "data": {
      "image/png": "[encoded data removed]",
      "text/plain": [
       "<Figure size 640x480 with 1 Axes>"
      ]
     },
     "metadata": {},
     "output_type": "display_data"
    }
   ],
   "source": [
    "from sklearn import tree \n",
    "DT=DecisionTreeClassifier(criterion='entropy', ##\"entropy\" or \"gini\"\n",
    "                            splitter='random',  ## or \"random\" or \"best\"\n",
    "                            max_depth=20,\n",
    "                            min_samples_leaf=10)\n",
    "DT.fit(X_train, y_train)\n",
    "\n",
    "ypred = DT.predict(X_test)\n",
    "from sklearn.metrics import confusion_matrix\n",
    "\n",
    "cnf_matrix1 = confusion_matrix(y_test, ypred)\n",
    "print(\"\\nThe confusion matrix is:\")\n",
    "print(cnf_matrix1)\n",
    "ax = sns.heatmap(cnf_matrix1, annot=True, fmt='d' )\n",
    "ax.xaxis.set_ticklabels(DT.classes_)\n",
    "ax.yaxis.set_ticklabels(DT.classes_)\n",
    "plt.show()\n",
    "\n",
    "print(classification_report(y_test,ypred))\n",
    "\n",
    "tree.plot_tree(DT,\n",
    "               feature_names = X.columns,\n",
    "               class_names=['VeryHigh', 'High', 'Moderate', 'Low', 'VeryLow'],\n",
    "               filled = True)\n",
    "\n",
    "plt.savefig(\"DT1.pdf\")"
   ]
  },
  {
   "cell_type": "code",
   "execution_count": 173,
   "id": "8885feec",
   "metadata": {
    "scrolled": true
   },
   "outputs": [
    {
     "name": "stdout",
     "output_type": "stream",
     "text": [
      "\n",
      "The confusion matrix is:\n",
      "[[65  0  0 45]\n",
      " [ 1  0  0  0]\n",
      " [ 3  0  0  4]\n",
      " [56  0  0 61]]\n"
     ]
    },
    {
     "data": {
      "image/png": "[encoded data removed]",
      "text/plain": [
       "<Figure size 640x480 with 2 Axes>"
      ]
     },
     "metadata": {},
     "output_type": "display_data"
    },
    {
     "name": "stdout",
     "output_type": "stream",
     "text": [
      "              precision    recall  f1-score   support\n",
      "\n",
      "        High       0.52      0.59      0.55       110\n",
      "         Low       0.00      0.00      0.00         1\n",
      "    Moderate       0.00      0.00      0.00         7\n",
      "    VeryHigh       0.55      0.52      0.54       117\n",
      "\n",
      "    accuracy                           0.54       235\n",
      "   macro avg       0.27      0.28      0.27       235\n",
      "weighted avg       0.52      0.54      0.53       235\n",
      "\n"
     ]
    },
    {
     "name": "stderr",
     "output_type": "stream",
     "text": [
      "C:\\Users\\vakit\\anaconda3\\lib\\site-packages\\sklearn\\metrics\\_classification.py:1318: UndefinedMetricWarning: Precision and F-score are ill-defined and being set to 0.0 in labels with no predicted samples. Use `zero_division` parameter to control this behavior.\n",
      "  _warn_prf(average, modifier, msg_start, len(result))\n",
      "C:\\Users\\vakit\\anaconda3\\lib\\site-packages\\sklearn\\metrics\\_classification.py:1318: UndefinedMetricWarning: Precision and F-score are ill-defined and being set to 0.0 in labels with no predicted samples. Use `zero_division` parameter to control this behavior.\n",
      "  _warn_prf(average, modifier, msg_start, len(result))\n",
      "C:\\Users\\vakit\\anaconda3\\lib\\site-packages\\sklearn\\metrics\\_classification.py:1318: UndefinedMetricWarning: Precision and F-score are ill-defined and being set to 0.0 in labels with no predicted samples. Use `zero_division` parameter to control this behavior.\n",
      "  _warn_prf(average, modifier, msg_start, len(result))\n"
     ]
    },
    {
     "data": {
      "image/png": "[encoded data removed]",
      "text/plain": [
       "<Figure size 640x480 with 1 Axes>"
      ]
     },
     "metadata": {},
     "output_type": "display_data"
    }
   ],
   "source": [
    "# Decision Tree 2\n",
    "\n",
    "DT=DecisionTreeClassifier(criterion='gini', ##\"entropy\" or \"gini\"\n",
    "                            splitter='best',  ## or \"random\" or \"best\"\n",
    "                            max_depth=20,\n",
    "                            min_samples_leaf=10)\n",
    "DT.fit(X_train, y_train)\n",
    "\n",
    "ypred = DT.predict(X_test)\n",
    "\n",
    "from sklearn.metrics import confusion_matrix\n",
    "\n",
    "cnf_matrix2 = confusion_matrix(y_test, ypred)\n",
    "print(\"\\nThe confusion matrix is:\")\n",
    "print(cnf_matrix2)\n",
    "ax = sns.heatmap(cnf_matrix2, annot=True, fmt='d' )\n",
    "ax.xaxis.set_ticklabels(DT.classes_)\n",
    "ax.yaxis.set_ticklabels(DT.classes_)\n",
    "plt.show()\n",
    "\n",
    "print(classification_report(y_test,ypred))\n",
    "\n",
    "tree.plot_tree(DT,\n",
    "               feature_names = X.columns,\n",
    "               class_names=['VeryHigh', 'High', 'Moderate', 'Low', 'VeryLow'],\n",
    "               filled = True)\n",
    "\n",
    "plt.savefig(\"DT2.pdf\")\n"
   ]
  },
  {
   "cell_type": "code",
   "execution_count": 172,
   "id": "493b6eb7",
   "metadata": {
    "scrolled": true
   },
   "outputs": [
    {
     "name": "stdout",
     "output_type": "stream",
     "text": [
      "\n",
      "The confusion matrix is:\n",
      "[[50  0  0 60]\n",
      " [ 1  0  0  0]\n",
      " [ 3  0  0  4]\n",
      " [42  0  0 75]]\n"
     ]
    },
    {
     "data": {
      "image/png": "[encoded data removed]",
      "text/plain": [
       "<Figure size 640x480 with 2 Axes>"
      ]
     },
     "metadata": {},
     "output_type": "display_data"
    },
    {
     "name": "stdout",
     "output_type": "stream",
     "text": [
      "              precision    recall  f1-score   support\n",
      "\n",
      "        High       0.52      0.45      0.49       110\n",
      "         Low       0.00      0.00      0.00         1\n",
      "    Moderate       0.00      0.00      0.00         7\n",
      "    VeryHigh       0.54      0.64      0.59       117\n",
      "\n",
      "    accuracy                           0.53       235\n",
      "   macro avg       0.27      0.27      0.27       235\n",
      "weighted avg       0.51      0.53      0.52       235\n",
      "\n"
     ]
    },
    {
     "name": "stderr",
     "output_type": "stream",
     "text": [
      "C:\\Users\\vakit\\anaconda3\\lib\\site-packages\\sklearn\\metrics\\_classification.py:1318: UndefinedMetricWarning: Precision and F-score are ill-defined and being set to 0.0 in labels with no predicted samples. Use `zero_division` parameter to control this behavior.\n",
      "  _warn_prf(average, modifier, msg_start, len(result))\n",
      "C:\\Users\\vakit\\anaconda3\\lib\\site-packages\\sklearn\\metrics\\_classification.py:1318: UndefinedMetricWarning: Precision and F-score are ill-defined and being set to 0.0 in labels with no predicted samples. Use `zero_division` parameter to control this behavior.\n",
      "  _warn_prf(average, modifier, msg_start, len(result))\n",
      "C:\\Users\\vakit\\anaconda3\\lib\\site-packages\\sklearn\\metrics\\_classification.py:1318: UndefinedMetricWarning: Precision and F-score are ill-defined and being set to 0.0 in labels with no predicted samples. Use `zero_division` parameter to control this behavior.\n",
      "  _warn_prf(average, modifier, msg_start, len(result))\n"
     ]
    },
    {
     "data": {
      "image/png": "[encoded data removed]",
      "text/plain": [
       "<Figure size 640x480 with 1 Axes>"
      ]
     },
     "metadata": {},
     "output_type": "display_data"
    }
   ],
   "source": [
    "# Decision Tree 3\n",
    "\n",
    "DT=DecisionTreeClassifier(criterion='gini', ##\"entropy\" or \"gini\"\n",
    "                            splitter='best',  ## or \"random\" or \"best\"\n",
    "                            max_depth=10,\n",
    "                            min_samples_leaf=10)\n",
    "DT.fit(X_train, y_train)\n",
    "\n",
    "ypred = DT.predict(X_test)\n",
    "\n",
    "from sklearn.metrics import confusion_matrix\n",
    "\n",
    "cnf_matrix3 = confusion_matrix(y_test, ypred)\n",
    "print(\"\\nThe confusion matrix is:\")\n",
    "print(cnf_matrix3)\n",
    "ax = sns.heatmap(cnf_matrix3, annot=True, fmt='d' )\n",
    "ax.xaxis.set_ticklabels(DT.classes_)\n",
    "ax.yaxis.set_ticklabels(DT.classes_)\n",
    "plt.show()\n",
    "\n",
    "print(classification_report(y_test,ypred))\n",
    "\n",
    "tree.plot_tree(DT,\n",
    "               feature_names = X.columns,\n",
    "               class_names=['VeryHigh', 'High', 'Moderate', 'Low', 'VeryLow'],\n",
    "               filled = True)\n",
    "\n",
    "plt.savefig(\"DT3.pdf\")"
   ]
  },
  {
   "cell_type": "code",
   "execution_count": null,
   "id": "61a4957c",
   "metadata": {},
   "outputs": [],
   "source": []
  },
  {
   "cell_type": "code",
   "execution_count": null,
   "id": "10601fd0",
   "metadata": {},
   "outputs": [],
   "source": []
  }
 ],
 "metadata": {
  "kernelspec": {
   "display_name": "Python 3 (ipykernel)",
   "language": "python",
   "name": "python3"
  },
  "language_info": {
   "codemirror_mode": {
    "name": "ipython",
    "version": 3
   },
   "file_extension": ".py",
   "mimetype": "text/x-python",
   "name": "python",
   "nbconvert_exporter": "python",
   "pygments_lexer": "ipython3",
   "version": "3.9.13"
  }
 },
 "nbformat": 4,
 "nbformat_minor": 5
}
